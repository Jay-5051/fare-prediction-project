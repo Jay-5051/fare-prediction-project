{
 "cells": [
  {
   "cell_type": "markdown",
   "metadata": {
    "id": "uxtpalgFSvKb"
   },
   "source": [
    "## Objective: "
   ]
  },
  {
   "cell_type": "markdown",
   "metadata": {
    "id": "CsrAOp_bSvKi"
   },
   "source": [
    "In these project we're looking to predict the fare for their future transactional cases. Company delivery services to lakhs of customers daily. Now it becomes really important to manage their data properly to come up with new business ideas to get best results. So, it becomes really important to estimate the fare prices accurately. "
   ]
  },
  {
   "cell_type": "code",
   "execution_count": 94,
   "metadata": {
    "id": "tBYPsqIRSvKj"
   },
   "outputs": [],
   "source": [
    "#Importing required libraries\n",
    "import pandas as pd # Importing pandas for performing EDA\n",
    "import numpy as np  # Importing numpy for Linear Algebric operations\n",
    "import matplotlib.pyplot as plt # Importing for Data Visualization\n",
    "import seaborn as sns # Importing for Data Visualization\n",
    "from collections import Counter \n",
    "from sklearn.tree import DecisionTreeRegressor\n",
    "from sklearn.linear_model import LinearRegression #ML algorithm\n",
    "from sklearn.linear_model import Ridge,Lasso\n",
    "from sklearn.model_selection import GridSearchCV\n",
    "from sklearn.model_selection import train_test_split #splitting dataset\n",
    "from sklearn.metrics import mean_squared_error\n",
    "from sklearn.metrics import r2_score   \n",
    "\n",
    "%matplotlib inline"
   ]
  },
  {
   "cell_type": "code",
   "execution_count": 2,
   "metadata": {
    "id": "3pxcAmN8SvKk"
   },
   "outputs": [],
   "source": [
    "#Loading the data:\n",
    "train  = pd.read_csv(\"Desktop/test/train.csv\")\n",
    "test = pd.read_csv(\"Desktop/test/test.csv\")"
   ]
  },
  {
   "cell_type": "markdown",
   "metadata": {
    "id": "ALmZ4zMHSvKl"
   },
   "source": [
    "## Understanding the data :"
   ]
  },
  {
   "cell_type": "code",
   "execution_count": 3,
   "metadata": {
    "colab": {
     "base_uri": "https://localhost:8080/",
     "height": 309
    },
    "id": "PbLAL0h-SvKl",
    "outputId": "c83c7903-9101-4966-afcb-f77c5246effd"
   },
   "outputs": [
    {
     "data": {
      "text/html": [
       "<div>\n",
       "<style scoped>\n",
       "    .dataframe tbody tr th:only-of-type {\n",
       "        vertical-align: middle;\n",
       "    }\n",
       "\n",
       "    .dataframe tbody tr th {\n",
       "        vertical-align: top;\n",
       "    }\n",
       "\n",
       "    .dataframe thead th {\n",
       "        text-align: right;\n",
       "    }\n",
       "</style>\n",
       "<table border=\"1\" class=\"dataframe\">\n",
       "  <thead>\n",
       "    <tr style=\"text-align: right;\">\n",
       "      <th></th>\n",
       "      <th>key</th>\n",
       "      <th>fare_amount</th>\n",
       "      <th>pickup_datetime</th>\n",
       "      <th>pickup_longitude</th>\n",
       "      <th>pickup_latitude</th>\n",
       "      <th>dropoff_longitude</th>\n",
       "      <th>dropoff_latitude</th>\n",
       "      <th>passenger_count</th>\n",
       "    </tr>\n",
       "  </thead>\n",
       "  <tbody>\n",
       "    <tr>\n",
       "      <th>0</th>\n",
       "      <td>2010-06-15 22:37:37.0000002</td>\n",
       "      <td>6.1</td>\n",
       "      <td>2010-06-15 22:37:37 UTC</td>\n",
       "      <td>-73.987103</td>\n",
       "      <td>40.736700</td>\n",
       "      <td>-73.979968</td>\n",
       "      <td>40.722660</td>\n",
       "      <td>1</td>\n",
       "    </tr>\n",
       "    <tr>\n",
       "      <th>1</th>\n",
       "      <td>2012-01-15 05:05:00.00000038</td>\n",
       "      <td>5.3</td>\n",
       "      <td>2012-01-15 05:05:00 UTC</td>\n",
       "      <td>-73.945183</td>\n",
       "      <td>40.802335</td>\n",
       "      <td>-73.940880</td>\n",
       "      <td>40.792632</td>\n",
       "      <td>5</td>\n",
       "    </tr>\n",
       "    <tr>\n",
       "      <th>2</th>\n",
       "      <td>2014-08-08 13:41:56.0000002</td>\n",
       "      <td>11.0</td>\n",
       "      <td>2014-08-08 13:41:56 UTC</td>\n",
       "      <td>-73.981187</td>\n",
       "      <td>40.781080</td>\n",
       "      <td>-73.952317</td>\n",
       "      <td>40.775680</td>\n",
       "      <td>2</td>\n",
       "    </tr>\n",
       "    <tr>\n",
       "      <th>3</th>\n",
       "      <td>2011-02-15 13:54:00.000000178</td>\n",
       "      <td>6.5</td>\n",
       "      <td>2011-02-15 13:54:00 UTC</td>\n",
       "      <td>-73.994452</td>\n",
       "      <td>40.740643</td>\n",
       "      <td>-73.988440</td>\n",
       "      <td>40.752680</td>\n",
       "      <td>3</td>\n",
       "    </tr>\n",
       "    <tr>\n",
       "      <th>4</th>\n",
       "      <td>2011-06-03 15:41:06.0000002</td>\n",
       "      <td>8.1</td>\n",
       "      <td>2011-06-03 15:41:06 UTC</td>\n",
       "      <td>-73.969300</td>\n",
       "      <td>40.759800</td>\n",
       "      <td>-73.988000</td>\n",
       "      <td>40.731900</td>\n",
       "      <td>0</td>\n",
       "    </tr>\n",
       "  </tbody>\n",
       "</table>\n",
       "</div>"
      ],
      "text/plain": [
       "                             key  fare_amount          pickup_datetime  \\\n",
       "0    2010-06-15 22:37:37.0000002          6.1  2010-06-15 22:37:37 UTC   \n",
       "1   2012-01-15 05:05:00.00000038          5.3  2012-01-15 05:05:00 UTC   \n",
       "2    2014-08-08 13:41:56.0000002         11.0  2014-08-08 13:41:56 UTC   \n",
       "3  2011-02-15 13:54:00.000000178          6.5  2011-02-15 13:54:00 UTC   \n",
       "4    2011-06-03 15:41:06.0000002          8.1  2011-06-03 15:41:06 UTC   \n",
       "\n",
       "   pickup_longitude  pickup_latitude  dropoff_longitude  dropoff_latitude  \\\n",
       "0        -73.987103        40.736700         -73.979968         40.722660   \n",
       "1        -73.945183        40.802335         -73.940880         40.792632   \n",
       "2        -73.981187        40.781080         -73.952317         40.775680   \n",
       "3        -73.994452        40.740643         -73.988440         40.752680   \n",
       "4        -73.969300        40.759800         -73.988000         40.731900   \n",
       "\n",
       "   passenger_count  \n",
       "0                1  \n",
       "1                5  \n",
       "2                2  \n",
       "3                3  \n",
       "4                0  "
      ]
     },
     "execution_count": 3,
     "metadata": {},
     "output_type": "execute_result"
    }
   ],
   "source": [
    "train.head() #checking first five rows of the training dataset"
   ]
  },
  {
   "cell_type": "code",
   "execution_count": 4,
   "metadata": {},
   "outputs": [
    {
     "data": {
      "text/html": [
       "<div>\n",
       "<style scoped>\n",
       "    .dataframe tbody tr th:only-of-type {\n",
       "        vertical-align: middle;\n",
       "    }\n",
       "\n",
       "    .dataframe tbody tr th {\n",
       "        vertical-align: top;\n",
       "    }\n",
       "\n",
       "    .dataframe thead th {\n",
       "        text-align: right;\n",
       "    }\n",
       "</style>\n",
       "<table border=\"1\" class=\"dataframe\">\n",
       "  <thead>\n",
       "    <tr style=\"text-align: right;\">\n",
       "      <th></th>\n",
       "      <th>key</th>\n",
       "      <th>pickup_datetime</th>\n",
       "      <th>pickup_longitude</th>\n",
       "      <th>pickup_latitude</th>\n",
       "      <th>dropoff_longitude</th>\n",
       "      <th>dropoff_latitude</th>\n",
       "      <th>passenger_count</th>\n",
       "    </tr>\n",
       "  </thead>\n",
       "  <tbody>\n",
       "    <tr>\n",
       "      <th>0</th>\n",
       "      <td>2015-01-27 13:08:24.0000002</td>\n",
       "      <td>2015-01-27 13:08:24 UTC</td>\n",
       "      <td>-73.973320</td>\n",
       "      <td>40.763805</td>\n",
       "      <td>-73.981430</td>\n",
       "      <td>40.743835</td>\n",
       "      <td>1</td>\n",
       "    </tr>\n",
       "    <tr>\n",
       "      <th>1</th>\n",
       "      <td>2015-01-27 13:08:24.0000003</td>\n",
       "      <td>2015-01-27 13:08:24 UTC</td>\n",
       "      <td>-73.986862</td>\n",
       "      <td>40.719383</td>\n",
       "      <td>-73.998886</td>\n",
       "      <td>40.739201</td>\n",
       "      <td>1</td>\n",
       "    </tr>\n",
       "    <tr>\n",
       "      <th>2</th>\n",
       "      <td>2011-10-08 11:53:44.0000002</td>\n",
       "      <td>2011-10-08 11:53:44 UTC</td>\n",
       "      <td>-73.982524</td>\n",
       "      <td>40.751260</td>\n",
       "      <td>-73.979654</td>\n",
       "      <td>40.746139</td>\n",
       "      <td>1</td>\n",
       "    </tr>\n",
       "    <tr>\n",
       "      <th>3</th>\n",
       "      <td>2012-12-01 21:12:12.0000002</td>\n",
       "      <td>2012-12-01 21:12:12 UTC</td>\n",
       "      <td>-73.981160</td>\n",
       "      <td>40.767807</td>\n",
       "      <td>-73.990448</td>\n",
       "      <td>40.751635</td>\n",
       "      <td>1</td>\n",
       "    </tr>\n",
       "    <tr>\n",
       "      <th>4</th>\n",
       "      <td>2012-12-01 21:12:12.0000003</td>\n",
       "      <td>2012-12-01 21:12:12 UTC</td>\n",
       "      <td>-73.966046</td>\n",
       "      <td>40.789775</td>\n",
       "      <td>-73.988565</td>\n",
       "      <td>40.744427</td>\n",
       "      <td>1</td>\n",
       "    </tr>\n",
       "  </tbody>\n",
       "</table>\n",
       "</div>"
      ],
      "text/plain": [
       "                           key          pickup_datetime  pickup_longitude  \\\n",
       "0  2015-01-27 13:08:24.0000002  2015-01-27 13:08:24 UTC        -73.973320   \n",
       "1  2015-01-27 13:08:24.0000003  2015-01-27 13:08:24 UTC        -73.986862   \n",
       "2  2011-10-08 11:53:44.0000002  2011-10-08 11:53:44 UTC        -73.982524   \n",
       "3  2012-12-01 21:12:12.0000002  2012-12-01 21:12:12 UTC        -73.981160   \n",
       "4  2012-12-01 21:12:12.0000003  2012-12-01 21:12:12 UTC        -73.966046   \n",
       "\n",
       "   pickup_latitude  dropoff_longitude  dropoff_latitude  passenger_count  \n",
       "0        40.763805         -73.981430         40.743835                1  \n",
       "1        40.719383         -73.998886         40.739201                1  \n",
       "2        40.751260         -73.979654         40.746139                1  \n",
       "3        40.767807         -73.990448         40.751635                1  \n",
       "4        40.789775         -73.988565         40.744427                1  "
      ]
     },
     "execution_count": 4,
     "metadata": {},
     "output_type": "execute_result"
    }
   ],
   "source": [
    "test.head()"
   ]
  },
  {
   "cell_type": "code",
   "execution_count": 5,
   "metadata": {},
   "outputs": [],
   "source": [
    "train.drop('key',axis=1,inplace=True)\n",
    "test.drop('key',axis=1,inplace=True)"
   ]
  },
  {
   "cell_type": "code",
   "execution_count": 6,
   "metadata": {
    "colab": {
     "base_uri": "https://localhost:8080/"
    },
    "id": "w-kQqDWwSvKm",
    "outputId": "d35a0860-43eb-4002-c7f6-b256ea75ddba"
   },
   "outputs": [
    {
     "name": "stdout",
     "output_type": "stream",
     "text": [
      "shape of training data is:  (13005478, 7)\n",
      "shape of testing data is:  (9914, 6)\n"
     ]
    }
   ],
   "source": [
    "print(\"shape of training data is: \",train.shape) #checking the number of rows and columns in training data\n",
    "print(\"shape of testing data is: \",test.shape) #checking the number of rows and columns in testing data"
   ]
  },
  {
   "cell_type": "code",
   "execution_count": 7,
   "metadata": {
    "colab": {
     "base_uri": "https://localhost:8080/"
    },
    "id": "q3V2YORPSvKn",
    "outputId": "54bfa7d2-018a-480b-8962-a91ce5aa914d"
   },
   "outputs": [
    {
     "data": {
      "text/plain": [
       "fare_amount          float64\n",
       "pickup_datetime       object\n",
       "pickup_longitude     float64\n",
       "pickup_latitude      float64\n",
       "dropoff_longitude    float64\n",
       "dropoff_latitude     float64\n",
       "passenger_count        int64\n",
       "dtype: object"
      ]
     },
     "execution_count": 7,
     "metadata": {},
     "output_type": "execute_result"
    }
   ],
   "source": [
    "train.dtypes #checking the data-types in training dataset"
   ]
  },
  {
   "cell_type": "code",
   "execution_count": 8,
   "metadata": {},
   "outputs": [
    {
     "data": {
      "text/plain": [
       "pickup_datetime       object\n",
       "pickup_longitude     float64\n",
       "pickup_latitude      float64\n",
       "dropoff_longitude    float64\n",
       "dropoff_latitude     float64\n",
       "passenger_count        int64\n",
       "dtype: object"
      ]
     },
     "execution_count": 8,
     "metadata": {},
     "output_type": "execute_result"
    }
   ],
   "source": [
    "test.dtypes"
   ]
  },
  {
   "cell_type": "markdown",
   "metadata": {
    "id": "qc6GKgrgSvKn"
   },
   "source": [
    "Here we can see pickup datetime and fare amount is of object type. So we need to change the data type of both."
   ]
  },
  {
   "cell_type": "code",
   "execution_count": 9,
   "metadata": {
    "colab": {
     "base_uri": "https://localhost:8080/",
     "height": 297
    },
    "id": "q57x4PlLSvKo",
    "outputId": "5587c41f-cc44-41af-8274-2b32d534fe0d"
   },
   "outputs": [
    {
     "data": {
      "text/html": [
       "<div>\n",
       "<style scoped>\n",
       "    .dataframe tbody tr th:only-of-type {\n",
       "        vertical-align: middle;\n",
       "    }\n",
       "\n",
       "    .dataframe tbody tr th {\n",
       "        vertical-align: top;\n",
       "    }\n",
       "\n",
       "    .dataframe thead th {\n",
       "        text-align: right;\n",
       "    }\n",
       "</style>\n",
       "<table border=\"1\" class=\"dataframe\">\n",
       "  <thead>\n",
       "    <tr style=\"text-align: right;\">\n",
       "      <th></th>\n",
       "      <th>fare_amount</th>\n",
       "      <th>pickup_longitude</th>\n",
       "      <th>pickup_latitude</th>\n",
       "      <th>dropoff_longitude</th>\n",
       "      <th>dropoff_latitude</th>\n",
       "      <th>passenger_count</th>\n",
       "    </tr>\n",
       "  </thead>\n",
       "  <tbody>\n",
       "    <tr>\n",
       "      <th>count</th>\n",
       "      <td>1.300548e+07</td>\n",
       "      <td>1.300548e+07</td>\n",
       "      <td>1.300548e+07</td>\n",
       "      <td>1.300539e+07</td>\n",
       "      <td>1.300539e+07</td>\n",
       "      <td>1.300548e+07</td>\n",
       "    </tr>\n",
       "    <tr>\n",
       "      <th>mean</th>\n",
       "      <td>1.133957e+01</td>\n",
       "      <td>-7.251155e+01</td>\n",
       "      <td>3.992273e+01</td>\n",
       "      <td>-7.251334e+01</td>\n",
       "      <td>3.992424e+01</td>\n",
       "      <td>1.685242e+00</td>\n",
       "    </tr>\n",
       "    <tr>\n",
       "      <th>std</th>\n",
       "      <td>9.835297e+00</td>\n",
       "      <td>1.280082e+01</td>\n",
       "      <td>9.273872e+00</td>\n",
       "      <td>1.286023e+01</td>\n",
       "      <td>9.566211e+00</td>\n",
       "      <td>1.324736e+00</td>\n",
       "    </tr>\n",
       "    <tr>\n",
       "      <th>min</th>\n",
       "      <td>-3.000000e+02</td>\n",
       "      <td>-3.439245e+03</td>\n",
       "      <td>-3.475482e+03</td>\n",
       "      <td>-3.428044e+03</td>\n",
       "      <td>-3.475482e+03</td>\n",
       "      <td>0.000000e+00</td>\n",
       "    </tr>\n",
       "    <tr>\n",
       "      <th>25%</th>\n",
       "      <td>6.000000e+00</td>\n",
       "      <td>-7.399207e+01</td>\n",
       "      <td>4.073493e+01</td>\n",
       "      <td>-7.399139e+01</td>\n",
       "      <td>4.073403e+01</td>\n",
       "      <td>1.000000e+00</td>\n",
       "    </tr>\n",
       "    <tr>\n",
       "      <th>50%</th>\n",
       "      <td>8.500000e+00</td>\n",
       "      <td>-7.398181e+01</td>\n",
       "      <td>4.075265e+01</td>\n",
       "      <td>-7.398014e+01</td>\n",
       "      <td>4.075316e+01</td>\n",
       "      <td>1.000000e+00</td>\n",
       "    </tr>\n",
       "    <tr>\n",
       "      <th>75%</th>\n",
       "      <td>1.250000e+01</td>\n",
       "      <td>-7.396707e+01</td>\n",
       "      <td>4.076713e+01</td>\n",
       "      <td>-7.396368e+01</td>\n",
       "      <td>4.076809e+01</td>\n",
       "      <td>2.000000e+00</td>\n",
       "    </tr>\n",
       "    <tr>\n",
       "      <th>max</th>\n",
       "      <td>3.130300e+03</td>\n",
       "      <td>3.454855e+03</td>\n",
       "      <td>3.352849e+03</td>\n",
       "      <td>3.445035e+03</td>\n",
       "      <td>3.351468e+03</td>\n",
       "      <td>2.080000e+02</td>\n",
       "    </tr>\n",
       "  </tbody>\n",
       "</table>\n",
       "</div>"
      ],
      "text/plain": [
       "        fare_amount  pickup_longitude  pickup_latitude  dropoff_longitude  \\\n",
       "count  1.300548e+07      1.300548e+07     1.300548e+07       1.300539e+07   \n",
       "mean   1.133957e+01     -7.251155e+01     3.992273e+01      -7.251334e+01   \n",
       "std    9.835297e+00      1.280082e+01     9.273872e+00       1.286023e+01   \n",
       "min   -3.000000e+02     -3.439245e+03    -3.475482e+03      -3.428044e+03   \n",
       "25%    6.000000e+00     -7.399207e+01     4.073493e+01      -7.399139e+01   \n",
       "50%    8.500000e+00     -7.398181e+01     4.075265e+01      -7.398014e+01   \n",
       "75%    1.250000e+01     -7.396707e+01     4.076713e+01      -7.396368e+01   \n",
       "max    3.130300e+03      3.454855e+03     3.352849e+03       3.445035e+03   \n",
       "\n",
       "       dropoff_latitude  passenger_count  \n",
       "count      1.300539e+07     1.300548e+07  \n",
       "mean       3.992424e+01     1.685242e+00  \n",
       "std        9.566211e+00     1.324736e+00  \n",
       "min       -3.475482e+03     0.000000e+00  \n",
       "25%        4.073403e+01     1.000000e+00  \n",
       "50%        4.075316e+01     1.000000e+00  \n",
       "75%        4.076809e+01     2.000000e+00  \n",
       "max        3.351468e+03     2.080000e+02  "
      ]
     },
     "execution_count": 9,
     "metadata": {},
     "output_type": "execute_result"
    }
   ],
   "source": [
    "train.describe() "
   ]
  },
  {
   "cell_type": "code",
   "execution_count": 10,
   "metadata": {},
   "outputs": [
    {
     "data": {
      "text/html": [
       "<div>\n",
       "<style scoped>\n",
       "    .dataframe tbody tr th:only-of-type {\n",
       "        vertical-align: middle;\n",
       "    }\n",
       "\n",
       "    .dataframe tbody tr th {\n",
       "        vertical-align: top;\n",
       "    }\n",
       "\n",
       "    .dataframe thead th {\n",
       "        text-align: right;\n",
       "    }\n",
       "</style>\n",
       "<table border=\"1\" class=\"dataframe\">\n",
       "  <thead>\n",
       "    <tr style=\"text-align: right;\">\n",
       "      <th></th>\n",
       "      <th>pickup_longitude</th>\n",
       "      <th>pickup_latitude</th>\n",
       "      <th>dropoff_longitude</th>\n",
       "      <th>dropoff_latitude</th>\n",
       "      <th>passenger_count</th>\n",
       "    </tr>\n",
       "  </thead>\n",
       "  <tbody>\n",
       "    <tr>\n",
       "      <th>count</th>\n",
       "      <td>9914.000000</td>\n",
       "      <td>9914.000000</td>\n",
       "      <td>9914.000000</td>\n",
       "      <td>9914.000000</td>\n",
       "      <td>9914.000000</td>\n",
       "    </tr>\n",
       "    <tr>\n",
       "      <th>mean</th>\n",
       "      <td>-73.974722</td>\n",
       "      <td>40.751041</td>\n",
       "      <td>-73.973657</td>\n",
       "      <td>40.751743</td>\n",
       "      <td>1.671273</td>\n",
       "    </tr>\n",
       "    <tr>\n",
       "      <th>std</th>\n",
       "      <td>0.042774</td>\n",
       "      <td>0.033541</td>\n",
       "      <td>0.039072</td>\n",
       "      <td>0.035435</td>\n",
       "      <td>1.278747</td>\n",
       "    </tr>\n",
       "    <tr>\n",
       "      <th>min</th>\n",
       "      <td>-74.252193</td>\n",
       "      <td>40.573143</td>\n",
       "      <td>-74.263242</td>\n",
       "      <td>40.568973</td>\n",
       "      <td>1.000000</td>\n",
       "    </tr>\n",
       "    <tr>\n",
       "      <th>25%</th>\n",
       "      <td>-73.992501</td>\n",
       "      <td>40.736125</td>\n",
       "      <td>-73.991247</td>\n",
       "      <td>40.735254</td>\n",
       "      <td>1.000000</td>\n",
       "    </tr>\n",
       "    <tr>\n",
       "      <th>50%</th>\n",
       "      <td>-73.982326</td>\n",
       "      <td>40.753051</td>\n",
       "      <td>-73.980015</td>\n",
       "      <td>40.754065</td>\n",
       "      <td>1.000000</td>\n",
       "    </tr>\n",
       "    <tr>\n",
       "      <th>75%</th>\n",
       "      <td>-73.968013</td>\n",
       "      <td>40.767113</td>\n",
       "      <td>-73.964059</td>\n",
       "      <td>40.768757</td>\n",
       "      <td>2.000000</td>\n",
       "    </tr>\n",
       "    <tr>\n",
       "      <th>max</th>\n",
       "      <td>-72.986532</td>\n",
       "      <td>41.709555</td>\n",
       "      <td>-72.990963</td>\n",
       "      <td>41.696683</td>\n",
       "      <td>6.000000</td>\n",
       "    </tr>\n",
       "  </tbody>\n",
       "</table>\n",
       "</div>"
      ],
      "text/plain": [
       "       pickup_longitude  pickup_latitude  dropoff_longitude  dropoff_latitude  \\\n",
       "count       9914.000000      9914.000000        9914.000000       9914.000000   \n",
       "mean         -73.974722        40.751041         -73.973657         40.751743   \n",
       "std            0.042774         0.033541           0.039072          0.035435   \n",
       "min          -74.252193        40.573143         -74.263242         40.568973   \n",
       "25%          -73.992501        40.736125         -73.991247         40.735254   \n",
       "50%          -73.982326        40.753051         -73.980015         40.754065   \n",
       "75%          -73.968013        40.767113         -73.964059         40.768757   \n",
       "max          -72.986532        41.709555         -72.990963         41.696683   \n",
       "\n",
       "       passenger_count  \n",
       "count      9914.000000  \n",
       "mean          1.671273  \n",
       "std           1.278747  \n",
       "min           1.000000  \n",
       "25%           1.000000  \n",
       "50%           1.000000  \n",
       "75%           2.000000  \n",
       "max           6.000000  "
      ]
     },
     "execution_count": 10,
     "metadata": {},
     "output_type": "execute_result"
    }
   ],
   "source": [
    "test.describe()"
   ]
  },
  {
   "cell_type": "markdown",
   "metadata": {
    "id": "l2_yenNQSvKp"
   },
   "source": [
    "## Data Cleaning & Missing Value Analysis :"
   ]
  },
  {
   "cell_type": "code",
   "execution_count": 11,
   "metadata": {
    "id": "mh_o0soUSvKp"
   },
   "outputs": [],
   "source": [
    "#Convert fare_amount from object to numeric\n",
    "train[\"fare_amount\"] = pd.to_numeric(train[\"fare_amount\"],errors = \"coerce\")  #Using errors=’coerce’. It will replace all non-numeric values with NaN."
   ]
  },
  {
   "cell_type": "code",
   "execution_count": 12,
   "metadata": {
    "colab": {
     "base_uri": "https://localhost:8080/",
     "height": 609
    },
    "id": "G5Q25xgbSvKq",
    "outputId": "4bc111bd-1ad6-4a8f-b60d-5f686b2b013c"
   },
   "outputs": [
    {
     "data": {
      "text/html": [
       "<div>\n",
       "<style scoped>\n",
       "    .dataframe tbody tr th:only-of-type {\n",
       "        vertical-align: middle;\n",
       "    }\n",
       "\n",
       "    .dataframe tbody tr th {\n",
       "        vertical-align: top;\n",
       "    }\n",
       "\n",
       "    .dataframe thead th {\n",
       "        text-align: right;\n",
       "    }\n",
       "</style>\n",
       "<table border=\"1\" class=\"dataframe\">\n",
       "  <thead>\n",
       "    <tr style=\"text-align: right;\">\n",
       "      <th></th>\n",
       "      <th>fare_amount</th>\n",
       "      <th>pickup_datetime</th>\n",
       "      <th>pickup_longitude</th>\n",
       "      <th>pickup_latitude</th>\n",
       "      <th>dropoff_longitude</th>\n",
       "      <th>dropoff_latitude</th>\n",
       "      <th>passenger_count</th>\n",
       "    </tr>\n",
       "  </thead>\n",
       "  <tbody>\n",
       "    <tr>\n",
       "      <th>0</th>\n",
       "      <td>6.1</td>\n",
       "      <td>2010-06-15 22:37:37 UTC</td>\n",
       "      <td>-73.987103</td>\n",
       "      <td>40.736700</td>\n",
       "      <td>-73.979968</td>\n",
       "      <td>40.722660</td>\n",
       "      <td>1</td>\n",
       "    </tr>\n",
       "    <tr>\n",
       "      <th>1</th>\n",
       "      <td>5.3</td>\n",
       "      <td>2012-01-15 05:05:00 UTC</td>\n",
       "      <td>-73.945183</td>\n",
       "      <td>40.802335</td>\n",
       "      <td>-73.940880</td>\n",
       "      <td>40.792632</td>\n",
       "      <td>5</td>\n",
       "    </tr>\n",
       "    <tr>\n",
       "      <th>2</th>\n",
       "      <td>11.0</td>\n",
       "      <td>2014-08-08 13:41:56 UTC</td>\n",
       "      <td>-73.981187</td>\n",
       "      <td>40.781080</td>\n",
       "      <td>-73.952317</td>\n",
       "      <td>40.775680</td>\n",
       "      <td>2</td>\n",
       "    </tr>\n",
       "    <tr>\n",
       "      <th>3</th>\n",
       "      <td>6.5</td>\n",
       "      <td>2011-02-15 13:54:00 UTC</td>\n",
       "      <td>-73.994452</td>\n",
       "      <td>40.740643</td>\n",
       "      <td>-73.988440</td>\n",
       "      <td>40.752680</td>\n",
       "      <td>3</td>\n",
       "    </tr>\n",
       "    <tr>\n",
       "      <th>4</th>\n",
       "      <td>8.1</td>\n",
       "      <td>2011-06-03 15:41:06 UTC</td>\n",
       "      <td>-73.969300</td>\n",
       "      <td>40.759800</td>\n",
       "      <td>-73.988000</td>\n",
       "      <td>40.731900</td>\n",
       "      <td>0</td>\n",
       "    </tr>\n",
       "    <tr>\n",
       "      <th>...</th>\n",
       "      <td>...</td>\n",
       "      <td>...</td>\n",
       "      <td>...</td>\n",
       "      <td>...</td>\n",
       "      <td>...</td>\n",
       "      <td>...</td>\n",
       "      <td>...</td>\n",
       "    </tr>\n",
       "    <tr>\n",
       "      <th>13005473</th>\n",
       "      <td>15.3</td>\n",
       "      <td>2009-09-17 17:30:59 UTC</td>\n",
       "      <td>-73.946428</td>\n",
       "      <td>40.772953</td>\n",
       "      <td>-73.999922</td>\n",
       "      <td>40.738704</td>\n",
       "      <td>1</td>\n",
       "    </tr>\n",
       "    <tr>\n",
       "      <th>13005474</th>\n",
       "      <td>5.7</td>\n",
       "      <td>2012-04-03 23:07:16 UTC</td>\n",
       "      <td>-73.983584</td>\n",
       "      <td>40.725945</td>\n",
       "      <td>-73.992779</td>\n",
       "      <td>40.717914</td>\n",
       "      <td>1</td>\n",
       "    </tr>\n",
       "    <tr>\n",
       "      <th>13005475</th>\n",
       "      <td>5.3</td>\n",
       "      <td>2009-06-18 19:17:00 UTC</td>\n",
       "      <td>-73.994840</td>\n",
       "      <td>40.739113</td>\n",
       "      <td>-73.996813</td>\n",
       "      <td>40.744558</td>\n",
       "      <td>2</td>\n",
       "    </tr>\n",
       "    <tr>\n",
       "      <th>13005476</th>\n",
       "      <td>5.7</td>\n",
       "      <td>2011-02-28 20:42:00 UTC</td>\n",
       "      <td>-73.994842</td>\n",
       "      <td>40.760165</td>\n",
       "      <td>-73.980780</td>\n",
       "      <td>40.778217</td>\n",
       "      <td>2</td>\n",
       "    </tr>\n",
       "    <tr>\n",
       "      <th>13005477</th>\n",
       "      <td>4.0</td>\n",
       "      <td>2013-06-08 23:37:44 UTC</td>\n",
       "      <td>-74.003360</td>\n",
       "      <td>40.727060</td>\n",
       "      <td>-73.999785</td>\n",
       "      <td>40.734316</td>\n",
       "      <td>1</td>\n",
       "    </tr>\n",
       "  </tbody>\n",
       "</table>\n",
       "<p>13005478 rows × 7 columns</p>\n",
       "</div>"
      ],
      "text/plain": [
       "          fare_amount          pickup_datetime  pickup_longitude  \\\n",
       "0                 6.1  2010-06-15 22:37:37 UTC        -73.987103   \n",
       "1                 5.3  2012-01-15 05:05:00 UTC        -73.945183   \n",
       "2                11.0  2014-08-08 13:41:56 UTC        -73.981187   \n",
       "3                 6.5  2011-02-15 13:54:00 UTC        -73.994452   \n",
       "4                 8.1  2011-06-03 15:41:06 UTC        -73.969300   \n",
       "...               ...                      ...               ...   \n",
       "13005473         15.3  2009-09-17 17:30:59 UTC        -73.946428   \n",
       "13005474          5.7  2012-04-03 23:07:16 UTC        -73.983584   \n",
       "13005475          5.3  2009-06-18 19:17:00 UTC        -73.994840   \n",
       "13005476          5.7  2011-02-28 20:42:00 UTC        -73.994842   \n",
       "13005477          4.0  2013-06-08 23:37:44 UTC        -74.003360   \n",
       "\n",
       "          pickup_latitude  dropoff_longitude  dropoff_latitude  \\\n",
       "0               40.736700         -73.979968         40.722660   \n",
       "1               40.802335         -73.940880         40.792632   \n",
       "2               40.781080         -73.952317         40.775680   \n",
       "3               40.740643         -73.988440         40.752680   \n",
       "4               40.759800         -73.988000         40.731900   \n",
       "...                   ...                ...               ...   \n",
       "13005473        40.772953         -73.999922         40.738704   \n",
       "13005474        40.725945         -73.992779         40.717914   \n",
       "13005475        40.739113         -73.996813         40.744558   \n",
       "13005476        40.760165         -73.980780         40.778217   \n",
       "13005477        40.727060         -73.999785         40.734316   \n",
       "\n",
       "          passenger_count  \n",
       "0                       1  \n",
       "1                       5  \n",
       "2                       2  \n",
       "3                       3  \n",
       "4                       0  \n",
       "...                   ...  \n",
       "13005473                1  \n",
       "13005474                1  \n",
       "13005475                2  \n",
       "13005476                2  \n",
       "13005477                1  \n",
       "\n",
       "[13005478 rows x 7 columns]"
      ]
     },
     "execution_count": 12,
     "metadata": {},
     "output_type": "execute_result"
    }
   ],
   "source": [
    "train.dropna(subset= [\"pickup_datetime\"])   #dropping NA values in datetime column"
   ]
  },
  {
   "cell_type": "code",
   "execution_count": 13,
   "metadata": {
    "id": "1_0rk9r4SvKq"
   },
   "outputs": [],
   "source": [
    "# Here pickup_datetime variable is in object so we need to change its data type to datetime\n",
    "train['pickup_datetime'] =  pd.to_datetime(train['pickup_datetime'], format='%Y-%m-%d %H:%M:%S UTC')"
   ]
  },
  {
   "cell_type": "code",
   "execution_count": 14,
   "metadata": {
    "id": "XU33WJz_SvKr"
   },
   "outputs": [],
   "source": [
    "### we will saperate the Pickup_datetime column into separate field like year, month, day of the week, etc\n",
    "\n",
    "train['year'] = train['pickup_datetime'].dt.year\n",
    "train['Month'] = train['pickup_datetime'].dt.month\n",
    "train['Date'] = train['pickup_datetime'].dt.day\n",
    "train['Day'] = train['pickup_datetime'].dt.dayofweek\n",
    "train['Hour'] = train['pickup_datetime'].dt.hour\n",
    "train['Minute'] = train['pickup_datetime'].dt.minute"
   ]
  },
  {
   "cell_type": "code",
   "execution_count": 15,
   "metadata": {
    "colab": {
     "base_uri": "https://localhost:8080/"
    },
    "id": "HRYQPmXGSvKr",
    "outputId": "84ea78b4-a068-4250-a836-b20f145ccba3"
   },
   "outputs": [
    {
     "data": {
      "text/plain": [
       "fare_amount                 float64\n",
       "pickup_datetime      datetime64[ns]\n",
       "pickup_longitude            float64\n",
       "pickup_latitude             float64\n",
       "dropoff_longitude           float64\n",
       "dropoff_latitude            float64\n",
       "passenger_count               int64\n",
       "year                          int64\n",
       "Month                         int64\n",
       "Date                          int64\n",
       "Day                           int64\n",
       "Hour                          int64\n",
       "Minute                        int64\n",
       "dtype: object"
      ]
     },
     "execution_count": 15,
     "metadata": {},
     "output_type": "execute_result"
    }
   ],
   "source": [
    "train.dtypes #Re-checking datatypes after conversion"
   ]
  },
  {
   "cell_type": "code",
   "execution_count": 16,
   "metadata": {},
   "outputs": [],
   "source": [
    "test[\"pickup_datetime\"] = pd.to_datetime(test[\"pickup_datetime\"],format= \"%Y-%m-%d %H:%M:%S UTC\")"
   ]
  },
  {
   "cell_type": "code",
   "execution_count": 17,
   "metadata": {},
   "outputs": [],
   "source": [
    "### we will saperate the Pickup_datetime column into separate field like year, month, day of the week, etc\n",
    "\n",
    "test['year'] = test['pickup_datetime'].dt.year\n",
    "test['Month'] = test['pickup_datetime'].dt.month\n",
    "test['Date'] = test['pickup_datetime'].dt.day\n",
    "test['Day'] = test['pickup_datetime'].dt.dayofweek\n",
    "test['Hour'] = test['pickup_datetime'].dt.hour\n",
    "test['Minute'] = test['pickup_datetime'].dt.minute"
   ]
  },
  {
   "cell_type": "code",
   "execution_count": 18,
   "metadata": {},
   "outputs": [
    {
     "data": {
      "text/plain": [
       "pickup_datetime      datetime64[ns]\n",
       "pickup_longitude            float64\n",
       "pickup_latitude             float64\n",
       "dropoff_longitude           float64\n",
       "dropoff_latitude            float64\n",
       "passenger_count               int64\n",
       "year                          int64\n",
       "Month                         int64\n",
       "Date                          int64\n",
       "Day                           int64\n",
       "Hour                          int64\n",
       "Minute                        int64\n",
       "dtype: object"
      ]
     },
     "execution_count": 18,
     "metadata": {},
     "output_type": "execute_result"
    }
   ],
   "source": [
    "test.dtypes #Re-checking test datatypes after conversion"
   ]
  },
  {
   "cell_type": "markdown",
   "metadata": {
    "id": "97Vig5axSvKs"
   },
   "source": [
    "#### Observations :\n",
    "\n",
    "1. Passenger count should not exceed 6(even if we consider SUV)\n",
    "2. Latitudes range from -90 to 90. Longitudes range from -180 to 180\n",
    "3. Few missing values and High values of fare and Passenger count are present. So, decided to remove them."
   ]
  },
  {
   "cell_type": "markdown",
   "metadata": {
    "id": "vE-02tn5SvKs"
   },
   "source": [
    "Checking the Datetime Variable : "
   ]
  },
  {
   "cell_type": "code",
   "execution_count": 19,
   "metadata": {},
   "outputs": [
    {
     "name": "stdout",
     "output_type": "stream",
     "text": [
      "(13005478, 13)\n"
     ]
    }
   ],
   "source": [
    "#removing datetime missing values rows\n",
    "train = train.drop(train[train['pickup_datetime'].isnull()].index, axis=0)\n",
    "print(train.shape)"
   ]
  },
  {
   "cell_type": "code",
   "execution_count": 20,
   "metadata": {},
   "outputs": [
    {
     "name": "stdout",
     "output_type": "stream",
     "text": [
      "0\n"
     ]
    }
   ],
   "source": [
    "print(train['pickup_datetime'].isnull().sum())"
   ]
  },
  {
   "cell_type": "markdown",
   "metadata": {
    "id": "-w-gqzgWSvKt"
   },
   "source": [
    "Checking the passenger count variable : "
   ]
  },
  {
   "cell_type": "code",
   "execution_count": 21,
   "metadata": {
    "colab": {
     "base_uri": "https://localhost:8080/"
    },
    "id": "Eq3Cyk3ESvKt",
    "outputId": "1fe80613-3094-458c-9e80-7925b3d1fdd6"
   },
   "outputs": [
    {
     "data": {
      "text/plain": [
       "count    1.300548e+07\n",
       "mean     1.685242e+00\n",
       "std      1.324736e+00\n",
       "min      0.000000e+00\n",
       "25%      1.000000e+00\n",
       "50%      1.000000e+00\n",
       "75%      2.000000e+00\n",
       "max      2.080000e+02\n",
       "Name: passenger_count, dtype: float64"
      ]
     },
     "execution_count": 21,
     "metadata": {},
     "output_type": "execute_result"
    }
   ],
   "source": [
    "train[\"passenger_count\"].describe()"
   ]
  },
  {
   "cell_type": "code",
   "execution_count": 22,
   "metadata": {},
   "outputs": [
    {
     "data": {
      "text/plain": [
       "208"
      ]
     },
     "execution_count": 22,
     "metadata": {},
     "output_type": "execute_result"
    }
   ],
   "source": [
    "train[\"passenger_count\"].max()"
   ]
  },
  {
   "cell_type": "markdown",
   "metadata": {
    "id": "MLpMDcAhSvKt"
   },
   "source": [
    "We can see maximum number of passanger count is 208 which is actually not possible. So reducing the passenger count to 6 (even if we consider the SUV)"
   ]
  },
  {
   "cell_type": "code",
   "execution_count": 23,
   "metadata": {
    "id": "_00CwnghSvKu"
   },
   "outputs": [],
   "source": [
    "train = train.drop(train[train[\"passenger_count\"]> 6 ].index, axis=0)"
   ]
  },
  {
   "cell_type": "code",
   "execution_count": 24,
   "metadata": {
    "id": "R3cS3VF_SvKu"
   },
   "outputs": [],
   "source": [
    "#Also removing the values with passenger count of 0.\n",
    "train = train.drop(train[train[\"passenger_count\"] == 0 ].index, axis=0)"
   ]
  },
  {
   "cell_type": "code",
   "execution_count": 25,
   "metadata": {
    "colab": {
     "base_uri": "https://localhost:8080/"
    },
    "id": "mMKSp8AcSvKu",
    "outputId": "cd9a7378-7fdd-454e-cf86-c1a60418e944"
   },
   "outputs": [
    {
     "data": {
      "text/plain": [
       "count    1.295928e+07\n",
       "mean     1.691033e+00\n",
       "std      1.307013e+00\n",
       "min      1.000000e+00\n",
       "25%      1.000000e+00\n",
       "50%      1.000000e+00\n",
       "75%      2.000000e+00\n",
       "max      6.000000e+00\n",
       "Name: passenger_count, dtype: float64"
      ]
     },
     "execution_count": 25,
     "metadata": {},
     "output_type": "execute_result"
    }
   ],
   "source": [
    "train[\"passenger_count\"].describe()"
   ]
  },
  {
   "cell_type": "code",
   "execution_count": 26,
   "metadata": {
    "colab": {
     "base_uri": "https://localhost:8080/"
    },
    "id": "nRjSVjilSvKu",
    "outputId": "8def4c05-8916-4173-a8c7-db8b33c66ec9"
   },
   "outputs": [
    {
     "data": {
      "text/plain": [
       "0           1\n",
       "7886348     1\n",
       "7886349     1\n",
       "7886352     1\n",
       "7886354     1\n",
       "           ..\n",
       "12640700    6\n",
       "4562313     6\n",
       "6432291     6\n",
       "3262278     6\n",
       "3970379     6\n",
       "Name: passenger_count, Length: 12959277, dtype: int64"
      ]
     },
     "execution_count": 26,
     "metadata": {},
     "output_type": "execute_result"
    }
   ],
   "source": [
    "train[\"passenger_count\"].sort_values(ascending= True)"
   ]
  },
  {
   "cell_type": "code",
   "execution_count": 27,
   "metadata": {
    "colab": {
     "base_uri": "https://localhost:8080/"
    },
    "id": "QD4CT6JCSvKv",
    "outputId": "0815edb1-663f-4068-9599-49708e3db71c"
   },
   "outputs": [
    {
     "name": "stdout",
     "output_type": "stream",
     "text": [
      "(12959277, 13)\n",
      "0\n"
     ]
    }
   ],
   "source": [
    "#removing passanger_count missing values rows\n",
    "train = train.drop(train[train['passenger_count'].isnull()].index, axis=0)\n",
    "print(train.shape)\n",
    "print(train['passenger_count'].isnull().sum())"
   ]
  },
  {
   "cell_type": "markdown",
   "metadata": {
    "id": "HLitrlmRSvKv"
   },
   "source": [
    "Next checking the Fare Amount variable :"
   ]
  },
  {
   "cell_type": "code",
   "execution_count": 28,
   "metadata": {
    "colab": {
     "base_uri": "https://localhost:8080/"
    },
    "id": "YT-rv9aVSvKw",
    "outputId": "8f424831-089e-4503-a047-5ab6f41c9998"
   },
   "outputs": [
    {
     "data": {
      "text/plain": [
       "506793      3130.30\n",
       "7294982     2004.50\n",
       "12872593     957.00\n",
       "3893276      900.00\n",
       "9400995      724.21\n",
       "             ...   \n",
       "5462396      -95.00\n",
       "2466532     -107.75\n",
       "5235270     -145.00\n",
       "7887685     -176.00\n",
       "466269      -300.00\n",
       "Name: fare_amount, Length: 12959277, dtype: float64"
      ]
     },
     "execution_count": 28,
     "metadata": {},
     "output_type": "execute_result"
    }
   ],
   "source": [
    "##finding decending order of fare to get to know whether the outliers are present or not\n",
    "train[\"fare_amount\"].sort_values(ascending=False)"
   ]
  },
  {
   "cell_type": "code",
   "execution_count": 29,
   "metadata": {
    "colab": {
     "base_uri": "https://localhost:8080/"
    },
    "id": "yi2h38d3SvKw",
    "outputId": "d4e2962b-3f51-4a76-822b-95e6ef8eb69a"
   },
   "outputs": [
    {
     "data": {
      "text/plain": [
       "Counter({False: 12958670, True: 607})"
      ]
     },
     "execution_count": 29,
     "metadata": {},
     "output_type": "execute_result"
    }
   ],
   "source": [
    "Counter(train[\"fare_amount\"]<0)"
   ]
  },
  {
   "cell_type": "code",
   "execution_count": 30,
   "metadata": {
    "colab": {
     "base_uri": "https://localhost:8080/"
    },
    "id": "o1Ynt4hCSvKw",
    "outputId": "3cec4908-b83f-4b3f-949f-82c4b23fe6c6"
   },
   "outputs": [
    {
     "data": {
      "text/plain": [
       "(12958670, 13)"
      ]
     },
     "execution_count": 30,
     "metadata": {},
     "output_type": "execute_result"
    }
   ],
   "source": [
    "train = train.drop(train[train[\"fare_amount\"]<0].index, axis=0)\n",
    "train.shape"
   ]
  },
  {
   "cell_type": "code",
   "execution_count": 31,
   "metadata": {
    "colab": {
     "base_uri": "https://localhost:8080/"
    },
    "id": "3ffmIiBKSvKw",
    "outputId": "e887fb59-c175-46bf-f342-fa295b3fc0dd"
   },
   "outputs": [
    {
     "data": {
      "text/plain": [
       "0.0"
      ]
     },
     "execution_count": 31,
     "metadata": {},
     "output_type": "execute_result"
    }
   ],
   "source": [
    "##make sure there is no negative values in the fare_amount variable column\n",
    "train[\"fare_amount\"].min()"
   ]
  },
  {
   "cell_type": "code",
   "execution_count": 32,
   "metadata": {
    "colab": {
     "base_uri": "https://localhost:8080/"
    },
    "id": "RMXVreVLSvKx",
    "outputId": "6eef21d3-37d5-4f16-f958-d1d635bc0248"
   },
   "outputs": [
    {
     "data": {
      "text/plain": [
       "(12958208, 13)"
      ]
     },
     "execution_count": 32,
     "metadata": {},
     "output_type": "execute_result"
    }
   ],
   "source": [
    "#Also remove the row where fare amount is zero\n",
    "train = train.drop(train[train[\"fare_amount\"]<1].index, axis=0)\n",
    "train.shape"
   ]
  },
  {
   "cell_type": "code",
   "execution_count": 33,
   "metadata": {
    "colab": {
     "base_uri": "https://localhost:8080/"
    },
    "id": "iXgS4XAzSvKx",
    "outputId": "6459c61c-5fe3-406b-bcc2-4ca5cc57a2be"
   },
   "outputs": [
    {
     "data": {
      "text/plain": [
       "(12958200, 13)"
      ]
     },
     "execution_count": 33,
     "metadata": {},
     "output_type": "execute_result"
    }
   ],
   "source": [
    "#Now we can see that there is a huge difference in 1st 2nd and 3rd position in decending order of fare amount\n",
    "# so we will remove the rows having fare amounting more that 500 as considering them as outliers\n",
    "\n",
    "train = train.drop(train[train[\"fare_amount\"]> 500 ].index, axis=0)\n",
    "train.shape"
   ]
  },
  {
   "cell_type": "code",
   "execution_count": 34,
   "metadata": {},
   "outputs": [
    {
     "data": {
      "text/plain": [
       "6808447     500.00\n",
       "7761388     499.00\n",
       "5641355     499.00\n",
       "1471358     499.00\n",
       "12810341    498.65\n",
       "             ...  \n",
       "5677116       1.00\n",
       "8800647       1.00\n",
       "12705481      1.00\n",
       "6616308       1.00\n",
       "2107228       1.00\n",
       "Name: fare_amount, Length: 12958200, dtype: float64"
      ]
     },
     "execution_count": 34,
     "metadata": {},
     "output_type": "execute_result"
    }
   ],
   "source": [
    "train[\"fare_amount\"].sort_values(ascending=False)"
   ]
  },
  {
   "cell_type": "code",
   "execution_count": 35,
   "metadata": {
    "colab": {
     "base_uri": "https://localhost:8080/"
    },
    "id": "Xnd1sgUjSvKx",
    "outputId": "fdfa39de-3754-4169-8e47-c61148fa5e85"
   },
   "outputs": [
    {
     "name": "stdout",
     "output_type": "stream",
     "text": [
      "(12958200, 13)\n",
      "0\n"
     ]
    }
   ],
   "source": [
    "# eliminating rows for which value of \"fare_amount\" is missing\n",
    "train = train.drop(train[train['fare_amount'].isnull()].index, axis=0)\n",
    "print(train.shape)\n",
    "print(train['fare_amount'].isnull().sum())"
   ]
  },
  {
   "cell_type": "code",
   "execution_count": 36,
   "metadata": {
    "colab": {
     "base_uri": "https://localhost:8080/"
    },
    "id": "gIqRWcSUSvKy",
    "outputId": "e075c2c4-1b85-45b1-df6a-8e96d08ea218"
   },
   "outputs": [
    {
     "data": {
      "text/plain": [
       "count    1.295820e+07\n",
       "mean     1.134852e+01\n",
       "std      9.775080e+00\n",
       "min      1.000000e+00\n",
       "25%      6.000000e+00\n",
       "50%      8.500000e+00\n",
       "75%      1.250000e+01\n",
       "max      5.000000e+02\n",
       "Name: fare_amount, dtype: float64"
      ]
     },
     "execution_count": 36,
     "metadata": {},
     "output_type": "execute_result"
    }
   ],
   "source": [
    "train[\"fare_amount\"].describe()"
   ]
  },
  {
   "cell_type": "markdown",
   "metadata": {
    "id": "eVmNNV7_SvKy"
   },
   "source": [
    "Now checking the pickup lattitude and longitude :"
   ]
  },
  {
   "cell_type": "code",
   "execution_count": 37,
   "metadata": {
    "colab": {
     "base_uri": "https://localhost:8080/",
     "height": 165
    },
    "id": "3R3MXe_sSvKy",
    "outputId": "13183ad5-b46d-43af-8e36-43d7a91d3002"
   },
   "outputs": [
    {
     "data": {
      "text/html": [
       "<div>\n",
       "<style scoped>\n",
       "    .dataframe tbody tr th:only-of-type {\n",
       "        vertical-align: middle;\n",
       "    }\n",
       "\n",
       "    .dataframe tbody tr th {\n",
       "        vertical-align: top;\n",
       "    }\n",
       "\n",
       "    .dataframe thead th {\n",
       "        text-align: right;\n",
       "    }\n",
       "</style>\n",
       "<table border=\"1\" class=\"dataframe\">\n",
       "  <thead>\n",
       "    <tr style=\"text-align: right;\">\n",
       "      <th></th>\n",
       "      <th>fare_amount</th>\n",
       "      <th>pickup_datetime</th>\n",
       "      <th>pickup_longitude</th>\n",
       "      <th>pickup_latitude</th>\n",
       "      <th>dropoff_longitude</th>\n",
       "      <th>dropoff_latitude</th>\n",
       "      <th>passenger_count</th>\n",
       "      <th>year</th>\n",
       "      <th>Month</th>\n",
       "      <th>Date</th>\n",
       "      <th>Day</th>\n",
       "      <th>Hour</th>\n",
       "      <th>Minute</th>\n",
       "    </tr>\n",
       "  </thead>\n",
       "  <tbody>\n",
       "    <tr>\n",
       "      <th>47947</th>\n",
       "      <td>14.1</td>\n",
       "      <td>2011-10-15 15:47:00</td>\n",
       "      <td>-73.974778</td>\n",
       "      <td>406.216667</td>\n",
       "      <td>-73.963827</td>\n",
       "      <td>40.792837</td>\n",
       "      <td>1</td>\n",
       "      <td>2011</td>\n",
       "      <td>10</td>\n",
       "      <td>15</td>\n",
       "      <td>5</td>\n",
       "      <td>15</td>\n",
       "      <td>47</td>\n",
       "    </tr>\n",
       "    <tr>\n",
       "      <th>137518</th>\n",
       "      <td>7.0</td>\n",
       "      <td>2013-01-31 15:38:00</td>\n",
       "      <td>0.000000</td>\n",
       "      <td>2041.240317</td>\n",
       "      <td>-73.978397</td>\n",
       "      <td>40.759842</td>\n",
       "      <td>1</td>\n",
       "      <td>2013</td>\n",
       "      <td>1</td>\n",
       "      <td>31</td>\n",
       "      <td>3</td>\n",
       "      <td>15</td>\n",
       "      <td>38</td>\n",
       "    </tr>\n",
       "    <tr>\n",
       "      <th>200417</th>\n",
       "      <td>6.9</td>\n",
       "      <td>2011-10-17 21:30:00</td>\n",
       "      <td>-73.975193</td>\n",
       "      <td>404.850000</td>\n",
       "      <td>-73.983833</td>\n",
       "      <td>40.769717</td>\n",
       "      <td>6</td>\n",
       "      <td>2011</td>\n",
       "      <td>10</td>\n",
       "      <td>17</td>\n",
       "      <td>0</td>\n",
       "      <td>21</td>\n",
       "      <td>30</td>\n",
       "    </tr>\n",
       "    <tr>\n",
       "      <th>249723</th>\n",
       "      <td>7.7</td>\n",
       "      <td>2011-08-24 21:48:00</td>\n",
       "      <td>1121.371622</td>\n",
       "      <td>330.129795</td>\n",
       "      <td>1754.725060</td>\n",
       "      <td>-427.646528</td>\n",
       "      <td>1</td>\n",
       "      <td>2011</td>\n",
       "      <td>8</td>\n",
       "      <td>24</td>\n",
       "      <td>2</td>\n",
       "      <td>21</td>\n",
       "      <td>48</td>\n",
       "    </tr>\n",
       "    <tr>\n",
       "      <th>382615</th>\n",
       "      <td>18.5</td>\n",
       "      <td>2011-05-10 11:01:00</td>\n",
       "      <td>-1249.812805</td>\n",
       "      <td>506.269745</td>\n",
       "      <td>3439.455565</td>\n",
       "      <td>2958.601502</td>\n",
       "      <td>1</td>\n",
       "      <td>2011</td>\n",
       "      <td>5</td>\n",
       "      <td>10</td>\n",
       "      <td>1</td>\n",
       "      <td>11</td>\n",
       "      <td>1</td>\n",
       "    </tr>\n",
       "    <tr>\n",
       "      <th>...</th>\n",
       "      <td>...</td>\n",
       "      <td>...</td>\n",
       "      <td>...</td>\n",
       "      <td>...</td>\n",
       "      <td>...</td>\n",
       "      <td>...</td>\n",
       "      <td>...</td>\n",
       "      <td>...</td>\n",
       "      <td>...</td>\n",
       "      <td>...</td>\n",
       "      <td>...</td>\n",
       "      <td>...</td>\n",
       "      <td>...</td>\n",
       "    </tr>\n",
       "    <tr>\n",
       "      <th>12633297</th>\n",
       "      <td>6.1</td>\n",
       "      <td>2011-06-24 22:25:00</td>\n",
       "      <td>420.913503</td>\n",
       "      <td>535.642890</td>\n",
       "      <td>-2245.254872</td>\n",
       "      <td>2993.515333</td>\n",
       "      <td>1</td>\n",
       "      <td>2011</td>\n",
       "      <td>6</td>\n",
       "      <td>24</td>\n",
       "      <td>4</td>\n",
       "      <td>22</td>\n",
       "      <td>25</td>\n",
       "    </tr>\n",
       "    <tr>\n",
       "      <th>12754085</th>\n",
       "      <td>6.5</td>\n",
       "      <td>2009-06-06 21:31:00</td>\n",
       "      <td>-73.842212</td>\n",
       "      <td>615.310293</td>\n",
       "      <td>-73.842212</td>\n",
       "      <td>615.310293</td>\n",
       "      <td>1</td>\n",
       "      <td>2009</td>\n",
       "      <td>6</td>\n",
       "      <td>6</td>\n",
       "      <td>5</td>\n",
       "      <td>21</td>\n",
       "      <td>31</td>\n",
       "    </tr>\n",
       "    <tr>\n",
       "      <th>12786327</th>\n",
       "      <td>3.7</td>\n",
       "      <td>2012-03-25 02:49:00</td>\n",
       "      <td>2084.697707</td>\n",
       "      <td>899.232937</td>\n",
       "      <td>-1326.667547</td>\n",
       "      <td>-2849.085388</td>\n",
       "      <td>1</td>\n",
       "      <td>2012</td>\n",
       "      <td>3</td>\n",
       "      <td>25</td>\n",
       "      <td>6</td>\n",
       "      <td>2</td>\n",
       "      <td>49</td>\n",
       "    </tr>\n",
       "    <tr>\n",
       "      <th>12813153</th>\n",
       "      <td>20.1</td>\n",
       "      <td>2011-11-03 00:34:00</td>\n",
       "      <td>-3325.938403</td>\n",
       "      <td>1264.119402</td>\n",
       "      <td>-1329.512050</td>\n",
       "      <td>-1694.338285</td>\n",
       "      <td>1</td>\n",
       "      <td>2011</td>\n",
       "      <td>11</td>\n",
       "      <td>3</td>\n",
       "      <td>3</td>\n",
       "      <td>0</td>\n",
       "      <td>34</td>\n",
       "    </tr>\n",
       "    <tr>\n",
       "      <th>12819211</th>\n",
       "      <td>4.5</td>\n",
       "      <td>2012-04-26 19:22:00</td>\n",
       "      <td>-73.957960</td>\n",
       "      <td>404.066667</td>\n",
       "      <td>-73.948017</td>\n",
       "      <td>40.773015</td>\n",
       "      <td>1</td>\n",
       "      <td>2012</td>\n",
       "      <td>4</td>\n",
       "      <td>26</td>\n",
       "      <td>3</td>\n",
       "      <td>19</td>\n",
       "      <td>22</td>\n",
       "    </tr>\n",
       "  </tbody>\n",
       "</table>\n",
       "<p>158 rows × 13 columns</p>\n",
       "</div>"
      ],
      "text/plain": [
       "          fare_amount     pickup_datetime  pickup_longitude  pickup_latitude  \\\n",
       "47947            14.1 2011-10-15 15:47:00        -73.974778       406.216667   \n",
       "137518            7.0 2013-01-31 15:38:00          0.000000      2041.240317   \n",
       "200417            6.9 2011-10-17 21:30:00        -73.975193       404.850000   \n",
       "249723            7.7 2011-08-24 21:48:00       1121.371622       330.129795   \n",
       "382615           18.5 2011-05-10 11:01:00      -1249.812805       506.269745   \n",
       "...               ...                 ...               ...              ...   \n",
       "12633297          6.1 2011-06-24 22:25:00        420.913503       535.642890   \n",
       "12754085          6.5 2009-06-06 21:31:00        -73.842212       615.310293   \n",
       "12786327          3.7 2012-03-25 02:49:00       2084.697707       899.232937   \n",
       "12813153         20.1 2011-11-03 00:34:00      -3325.938403      1264.119402   \n",
       "12819211          4.5 2012-04-26 19:22:00        -73.957960       404.066667   \n",
       "\n",
       "          dropoff_longitude  dropoff_latitude  passenger_count  year  Month  \\\n",
       "47947            -73.963827         40.792837                1  2011     10   \n",
       "137518           -73.978397         40.759842                1  2013      1   \n",
       "200417           -73.983833         40.769717                6  2011     10   \n",
       "249723          1754.725060       -427.646528                1  2011      8   \n",
       "382615          3439.455565       2958.601502                1  2011      5   \n",
       "...                     ...               ...              ...   ...    ...   \n",
       "12633297       -2245.254872       2993.515333                1  2011      6   \n",
       "12754085         -73.842212        615.310293                1  2009      6   \n",
       "12786327       -1326.667547      -2849.085388                1  2012      3   \n",
       "12813153       -1329.512050      -1694.338285                1  2011     11   \n",
       "12819211         -73.948017         40.773015                1  2012      4   \n",
       "\n",
       "          Date  Day  Hour  Minute  \n",
       "47947       15    5    15      47  \n",
       "137518      31    3    15      38  \n",
       "200417      17    0    21      30  \n",
       "249723      24    2    21      48  \n",
       "382615      10    1    11       1  \n",
       "...        ...  ...   ...     ...  \n",
       "12633297    24    4    22      25  \n",
       "12754085     6    5    21      31  \n",
       "12786327    25    6     2      49  \n",
       "12813153     3    3     0      34  \n",
       "12819211    26    3    19      22  \n",
       "\n",
       "[158 rows x 13 columns]"
      ]
     },
     "execution_count": 37,
     "metadata": {},
     "output_type": "execute_result"
    }
   ],
   "source": [
    "#Lattitude----(-90 to 90)\n",
    "#Longitude----(-180 to 180)\n",
    "\n",
    "# we need to drop the rows having  pickup lattitute and longitute out the range mentioned above\n",
    "\n",
    "#train = train.drop(train[train['pickup_latitude']<-90])\n",
    "train[train['pickup_latitude']<-90]\n",
    "train[train['pickup_latitude']>90]"
   ]
  },
  {
   "cell_type": "code",
   "execution_count": 38,
   "metadata": {
    "id": "e5yNiFVhSvKy"
   },
   "outputs": [],
   "source": [
    "#Hence dropping one value of >90\n",
    "train.drop((train[train['pickup_latitude']<-90]).index, axis=0,inplace=True)\n",
    "train.drop((train[train['pickup_latitude']>90]).index, axis=0,inplace=True)"
   ]
  },
  {
   "cell_type": "code",
   "execution_count": 39,
   "metadata": {
    "colab": {
     "base_uri": "https://localhost:8080/",
     "height": 69
    },
    "id": "P9ei0KJESvKz",
    "outputId": "b81493d5-708f-4f95-b1c0-380fdb705eb9"
   },
   "outputs": [
    {
     "data": {
      "text/html": [
       "<div>\n",
       "<style scoped>\n",
       "    .dataframe tbody tr th:only-of-type {\n",
       "        vertical-align: middle;\n",
       "    }\n",
       "\n",
       "    .dataframe tbody tr th {\n",
       "        vertical-align: top;\n",
       "    }\n",
       "\n",
       "    .dataframe thead th {\n",
       "        text-align: right;\n",
       "    }\n",
       "</style>\n",
       "<table border=\"1\" class=\"dataframe\">\n",
       "  <thead>\n",
       "    <tr style=\"text-align: right;\">\n",
       "      <th></th>\n",
       "      <th>fare_amount</th>\n",
       "      <th>pickup_datetime</th>\n",
       "      <th>pickup_longitude</th>\n",
       "      <th>pickup_latitude</th>\n",
       "      <th>dropoff_longitude</th>\n",
       "      <th>dropoff_latitude</th>\n",
       "      <th>passenger_count</th>\n",
       "      <th>year</th>\n",
       "      <th>Month</th>\n",
       "      <th>Date</th>\n",
       "      <th>Day</th>\n",
       "      <th>Hour</th>\n",
       "      <th>Minute</th>\n",
       "    </tr>\n",
       "  </thead>\n",
       "  <tbody>\n",
       "    <tr>\n",
       "      <th>731504</th>\n",
       "      <td>8.1</td>\n",
       "      <td>2011-10-06 07:31:00</td>\n",
       "      <td>787.246387</td>\n",
       "      <td>-80.880182</td>\n",
       "      <td>787.246387</td>\n",
       "      <td>-80.880182</td>\n",
       "      <td>1</td>\n",
       "      <td>2011</td>\n",
       "      <td>10</td>\n",
       "      <td>6</td>\n",
       "      <td>3</td>\n",
       "      <td>7</td>\n",
       "      <td>31</td>\n",
       "    </tr>\n",
       "    <tr>\n",
       "      <th>1633627</th>\n",
       "      <td>42.5</td>\n",
       "      <td>2011-06-04 12:32:00</td>\n",
       "      <td>833.386565</td>\n",
       "      <td>-2.595688</td>\n",
       "      <td>1707.203463</td>\n",
       "      <td>2980.782555</td>\n",
       "      <td>1</td>\n",
       "      <td>2011</td>\n",
       "      <td>6</td>\n",
       "      <td>4</td>\n",
       "      <td>5</td>\n",
       "      <td>12</td>\n",
       "      <td>32</td>\n",
       "    </tr>\n",
       "    <tr>\n",
       "      <th>2542307</th>\n",
       "      <td>10.5</td>\n",
       "      <td>2011-08-18 00:01:00</td>\n",
       "      <td>757.866575</td>\n",
       "      <td>-80.926848</td>\n",
       "      <td>-554.935360</td>\n",
       "      <td>3351.403027</td>\n",
       "      <td>1</td>\n",
       "      <td>2011</td>\n",
       "      <td>8</td>\n",
       "      <td>18</td>\n",
       "      <td>3</td>\n",
       "      <td>0</td>\n",
       "      <td>1</td>\n",
       "    </tr>\n",
       "    <tr>\n",
       "      <th>4049306</th>\n",
       "      <td>16.9</td>\n",
       "      <td>2011-06-04 07:09:00</td>\n",
       "      <td>3383.517112</td>\n",
       "      <td>-86.502535</td>\n",
       "      <td>1124.202792</td>\n",
       "      <td>291.055042</td>\n",
       "      <td>1</td>\n",
       "      <td>2011</td>\n",
       "      <td>6</td>\n",
       "      <td>4</td>\n",
       "      <td>5</td>\n",
       "      <td>7</td>\n",
       "      <td>9</td>\n",
       "    </tr>\n",
       "    <tr>\n",
       "      <th>4418465</th>\n",
       "      <td>16.1</td>\n",
       "      <td>2011-05-02 08:53:00</td>\n",
       "      <td>2084.694373</td>\n",
       "      <td>-19.364388</td>\n",
       "      <td>-2653.507012</td>\n",
       "      <td>682.431815</td>\n",
       "      <td>1</td>\n",
       "      <td>2011</td>\n",
       "      <td>5</td>\n",
       "      <td>2</td>\n",
       "      <td>0</td>\n",
       "      <td>8</td>\n",
       "      <td>53</td>\n",
       "    </tr>\n",
       "    <tr>\n",
       "      <th>8190466</th>\n",
       "      <td>17.3</td>\n",
       "      <td>2011-09-07 22:42:00</td>\n",
       "      <td>1547.815547</td>\n",
       "      <td>-79.458763</td>\n",
       "      <td>1547.815547</td>\n",
       "      <td>-79.458763</td>\n",
       "      <td>1</td>\n",
       "      <td>2011</td>\n",
       "      <td>9</td>\n",
       "      <td>7</td>\n",
       "      <td>2</td>\n",
       "      <td>22</td>\n",
       "      <td>42</td>\n",
       "    </tr>\n",
       "    <tr>\n",
       "      <th>8198015</th>\n",
       "      <td>5.7</td>\n",
       "      <td>2011-07-01 08:53:00</td>\n",
       "      <td>1662.459703</td>\n",
       "      <td>-44.548278</td>\n",
       "      <td>402.768385</td>\n",
       "      <td>-402.454305</td>\n",
       "      <td>1</td>\n",
       "      <td>2011</td>\n",
       "      <td>7</td>\n",
       "      <td>1</td>\n",
       "      <td>4</td>\n",
       "      <td>8</td>\n",
       "      <td>53</td>\n",
       "    </tr>\n",
       "    <tr>\n",
       "      <th>9305077</th>\n",
       "      <td>5.3</td>\n",
       "      <td>2011-09-04 19:23:00</td>\n",
       "      <td>2157.301527</td>\n",
       "      <td>-50.152285</td>\n",
       "      <td>2157.301527</td>\n",
       "      <td>-50.152285</td>\n",
       "      <td>1</td>\n",
       "      <td>2011</td>\n",
       "      <td>9</td>\n",
       "      <td>4</td>\n",
       "      <td>6</td>\n",
       "      <td>19</td>\n",
       "      <td>23</td>\n",
       "    </tr>\n",
       "    <tr>\n",
       "      <th>12838791</th>\n",
       "      <td>3.7</td>\n",
       "      <td>2011-10-25 20:05:00</td>\n",
       "      <td>3454.854513</td>\n",
       "      <td>-47.297782</td>\n",
       "      <td>2101.491407</td>\n",
       "      <td>-2889.644893</td>\n",
       "      <td>1</td>\n",
       "      <td>2011</td>\n",
       "      <td>10</td>\n",
       "      <td>25</td>\n",
       "      <td>1</td>\n",
       "      <td>20</td>\n",
       "      <td>5</td>\n",
       "    </tr>\n",
       "  </tbody>\n",
       "</table>\n",
       "</div>"
      ],
      "text/plain": [
       "          fare_amount     pickup_datetime  pickup_longitude  pickup_latitude  \\\n",
       "731504            8.1 2011-10-06 07:31:00        787.246387       -80.880182   \n",
       "1633627          42.5 2011-06-04 12:32:00        833.386565        -2.595688   \n",
       "2542307          10.5 2011-08-18 00:01:00        757.866575       -80.926848   \n",
       "4049306          16.9 2011-06-04 07:09:00       3383.517112       -86.502535   \n",
       "4418465          16.1 2011-05-02 08:53:00       2084.694373       -19.364388   \n",
       "8190466          17.3 2011-09-07 22:42:00       1547.815547       -79.458763   \n",
       "8198015           5.7 2011-07-01 08:53:00       1662.459703       -44.548278   \n",
       "9305077           5.3 2011-09-04 19:23:00       2157.301527       -50.152285   \n",
       "12838791          3.7 2011-10-25 20:05:00       3454.854513       -47.297782   \n",
       "\n",
       "          dropoff_longitude  dropoff_latitude  passenger_count  year  Month  \\\n",
       "731504           787.246387        -80.880182                1  2011     10   \n",
       "1633627         1707.203463       2980.782555                1  2011      6   \n",
       "2542307         -554.935360       3351.403027                1  2011      8   \n",
       "4049306         1124.202792        291.055042                1  2011      6   \n",
       "4418465        -2653.507012        682.431815                1  2011      5   \n",
       "8190466         1547.815547        -79.458763                1  2011      9   \n",
       "8198015          402.768385       -402.454305                1  2011      7   \n",
       "9305077         2157.301527        -50.152285                1  2011      9   \n",
       "12838791        2101.491407      -2889.644893                1  2011     10   \n",
       "\n",
       "          Date  Day  Hour  Minute  \n",
       "731504       6    3     7      31  \n",
       "1633627      4    5    12      32  \n",
       "2542307     18    3     0       1  \n",
       "4049306      4    5     7       9  \n",
       "4418465      2    0     8      53  \n",
       "8190466      7    2    22      42  \n",
       "8198015      1    4     8      53  \n",
       "9305077      4    6    19      23  \n",
       "12838791    25    1    20       5  "
      ]
     },
     "execution_count": 39,
     "metadata": {},
     "output_type": "execute_result"
    }
   ],
   "source": [
    "train[train['pickup_longitude']<-180]\n",
    "train[train['pickup_longitude']>180]"
   ]
  },
  {
   "cell_type": "code",
   "execution_count": 40,
   "metadata": {},
   "outputs": [],
   "source": [
    "#Hence dropping one value of >90\n",
    "train.drop((train[train['pickup_longitude']<-180]).index, axis=0,inplace=True)\n",
    "train.drop((train[train['pickup_longitude']>180]).index, axis=0, inplace=True)"
   ]
  },
  {
   "cell_type": "code",
   "execution_count": 41,
   "metadata": {
    "colab": {
     "base_uri": "https://localhost:8080/",
     "height": 69
    },
    "id": "3QSZP3PGSvKz",
    "outputId": "78b41659-a36c-4d09-80b1-5c32e08b4026",
    "scrolled": true
   },
   "outputs": [
    {
     "data": {
      "text/html": [
       "<div>\n",
       "<style scoped>\n",
       "    .dataframe tbody tr th:only-of-type {\n",
       "        vertical-align: middle;\n",
       "    }\n",
       "\n",
       "    .dataframe tbody tr th {\n",
       "        vertical-align: top;\n",
       "    }\n",
       "\n",
       "    .dataframe thead th {\n",
       "        text-align: right;\n",
       "    }\n",
       "</style>\n",
       "<table border=\"1\" class=\"dataframe\">\n",
       "  <thead>\n",
       "    <tr style=\"text-align: right;\">\n",
       "      <th></th>\n",
       "      <th>fare_amount</th>\n",
       "      <th>pickup_datetime</th>\n",
       "      <th>pickup_longitude</th>\n",
       "      <th>pickup_latitude</th>\n",
       "      <th>dropoff_longitude</th>\n",
       "      <th>dropoff_latitude</th>\n",
       "      <th>passenger_count</th>\n",
       "      <th>year</th>\n",
       "      <th>Month</th>\n",
       "      <th>Date</th>\n",
       "      <th>Day</th>\n",
       "      <th>Hour</th>\n",
       "      <th>Minute</th>\n",
       "    </tr>\n",
       "  </thead>\n",
       "  <tbody>\n",
       "    <tr>\n",
       "      <th>34895</th>\n",
       "      <td>7.3</td>\n",
       "      <td>2011-09-25 12:12:00</td>\n",
       "      <td>-73.969250</td>\n",
       "      <td>40.798597</td>\n",
       "      <td>-73.957567</td>\n",
       "      <td>95.633333</td>\n",
       "      <td>1</td>\n",
       "      <td>2011</td>\n",
       "      <td>9</td>\n",
       "      <td>25</td>\n",
       "      <td>6</td>\n",
       "      <td>12</td>\n",
       "      <td>12</td>\n",
       "    </tr>\n",
       "    <tr>\n",
       "      <th>235347</th>\n",
       "      <td>8.9</td>\n",
       "      <td>2012-04-07 18:54:00</td>\n",
       "      <td>-73.991532</td>\n",
       "      <td>40.742245</td>\n",
       "      <td>0.000000</td>\n",
       "      <td>473.987042</td>\n",
       "      <td>1</td>\n",
       "      <td>2012</td>\n",
       "      <td>4</td>\n",
       "      <td>7</td>\n",
       "      <td>5</td>\n",
       "      <td>18</td>\n",
       "      <td>54</td>\n",
       "    </tr>\n",
       "    <tr>\n",
       "      <th>490252</th>\n",
       "      <td>8.1</td>\n",
       "      <td>2010-08-22 17:50:00</td>\n",
       "      <td>-73.873002</td>\n",
       "      <td>40.774092</td>\n",
       "      <td>-73.959275</td>\n",
       "      <td>404.700000</td>\n",
       "      <td>1</td>\n",
       "      <td>2010</td>\n",
       "      <td>8</td>\n",
       "      <td>22</td>\n",
       "      <td>6</td>\n",
       "      <td>17</td>\n",
       "      <td>50</td>\n",
       "    </tr>\n",
       "    <tr>\n",
       "      <th>577454</th>\n",
       "      <td>6.1</td>\n",
       "      <td>2011-10-29 16:13:00</td>\n",
       "      <td>-73.982320</td>\n",
       "      <td>40.775140</td>\n",
       "      <td>-73.960860</td>\n",
       "      <td>406.033332</td>\n",
       "      <td>1</td>\n",
       "      <td>2011</td>\n",
       "      <td>10</td>\n",
       "      <td>29</td>\n",
       "      <td>5</td>\n",
       "      <td>16</td>\n",
       "      <td>13</td>\n",
       "    </tr>\n",
       "    <tr>\n",
       "      <th>761931</th>\n",
       "      <td>6.1</td>\n",
       "      <td>2012-04-23 22:43:00</td>\n",
       "      <td>-73.974882</td>\n",
       "      <td>40.755162</td>\n",
       "      <td>-73.978817</td>\n",
       "      <td>404.733332</td>\n",
       "      <td>1</td>\n",
       "      <td>2012</td>\n",
       "      <td>4</td>\n",
       "      <td>23</td>\n",
       "      <td>0</td>\n",
       "      <td>22</td>\n",
       "      <td>43</td>\n",
       "    </tr>\n",
       "    <tr>\n",
       "      <th>...</th>\n",
       "      <td>...</td>\n",
       "      <td>...</td>\n",
       "      <td>...</td>\n",
       "      <td>...</td>\n",
       "      <td>...</td>\n",
       "      <td>...</td>\n",
       "      <td>...</td>\n",
       "      <td>...</td>\n",
       "      <td>...</td>\n",
       "      <td>...</td>\n",
       "      <td>...</td>\n",
       "      <td>...</td>\n",
       "      <td>...</td>\n",
       "    </tr>\n",
       "    <tr>\n",
       "      <th>12048310</th>\n",
       "      <td>4.5</td>\n",
       "      <td>2012-06-01 22:33:00</td>\n",
       "      <td>-74.013132</td>\n",
       "      <td>40.715597</td>\n",
       "      <td>-0.066667</td>\n",
       "      <td>234.054000</td>\n",
       "      <td>1</td>\n",
       "      <td>2012</td>\n",
       "      <td>6</td>\n",
       "      <td>1</td>\n",
       "      <td>4</td>\n",
       "      <td>22</td>\n",
       "      <td>33</td>\n",
       "    </tr>\n",
       "    <tr>\n",
       "      <th>12382098</th>\n",
       "      <td>6.1</td>\n",
       "      <td>2012-03-09 10:02:00</td>\n",
       "      <td>-73.982415</td>\n",
       "      <td>40.735777</td>\n",
       "      <td>-73.971752</td>\n",
       "      <td>404.883332</td>\n",
       "      <td>1</td>\n",
       "      <td>2012</td>\n",
       "      <td>3</td>\n",
       "      <td>9</td>\n",
       "      <td>4</td>\n",
       "      <td>10</td>\n",
       "      <td>2</td>\n",
       "    </tr>\n",
       "    <tr>\n",
       "      <th>12941539</th>\n",
       "      <td>10.5</td>\n",
       "      <td>2012-05-03 19:25:00</td>\n",
       "      <td>-73.988972</td>\n",
       "      <td>40.773705</td>\n",
       "      <td>-73.954950</td>\n",
       "      <td>404.116667</td>\n",
       "      <td>2</td>\n",
       "      <td>2012</td>\n",
       "      <td>5</td>\n",
       "      <td>3</td>\n",
       "      <td>3</td>\n",
       "      <td>19</td>\n",
       "      <td>25</td>\n",
       "    </tr>\n",
       "    <tr>\n",
       "      <th>12948563</th>\n",
       "      <td>4.5</td>\n",
       "      <td>2011-11-17 16:52:00</td>\n",
       "      <td>-1.100000</td>\n",
       "      <td>0.000000</td>\n",
       "      <td>0.000000</td>\n",
       "      <td>400.191755</td>\n",
       "      <td>1</td>\n",
       "      <td>2011</td>\n",
       "      <td>11</td>\n",
       "      <td>17</td>\n",
       "      <td>3</td>\n",
       "      <td>16</td>\n",
       "      <td>52</td>\n",
       "    </tr>\n",
       "    <tr>\n",
       "      <th>12955051</th>\n",
       "      <td>49.8</td>\n",
       "      <td>2011-12-30 14:09:00</td>\n",
       "      <td>-74.003797</td>\n",
       "      <td>40.722282</td>\n",
       "      <td>-73.792223</td>\n",
       "      <td>409.233332</td>\n",
       "      <td>3</td>\n",
       "      <td>2011</td>\n",
       "      <td>12</td>\n",
       "      <td>30</td>\n",
       "      <td>4</td>\n",
       "      <td>14</td>\n",
       "      <td>9</td>\n",
       "    </tr>\n",
       "  </tbody>\n",
       "</table>\n",
       "<p>83 rows × 13 columns</p>\n",
       "</div>"
      ],
      "text/plain": [
       "          fare_amount     pickup_datetime  pickup_longitude  pickup_latitude  \\\n",
       "34895             7.3 2011-09-25 12:12:00        -73.969250        40.798597   \n",
       "235347            8.9 2012-04-07 18:54:00        -73.991532        40.742245   \n",
       "490252            8.1 2010-08-22 17:50:00        -73.873002        40.774092   \n",
       "577454            6.1 2011-10-29 16:13:00        -73.982320        40.775140   \n",
       "761931            6.1 2012-04-23 22:43:00        -73.974882        40.755162   \n",
       "...               ...                 ...               ...              ...   \n",
       "12048310          4.5 2012-06-01 22:33:00        -74.013132        40.715597   \n",
       "12382098          6.1 2012-03-09 10:02:00        -73.982415        40.735777   \n",
       "12941539         10.5 2012-05-03 19:25:00        -73.988972        40.773705   \n",
       "12948563          4.5 2011-11-17 16:52:00         -1.100000         0.000000   \n",
       "12955051         49.8 2011-12-30 14:09:00        -74.003797        40.722282   \n",
       "\n",
       "          dropoff_longitude  dropoff_latitude  passenger_count  year  Month  \\\n",
       "34895            -73.957567         95.633333                1  2011      9   \n",
       "235347             0.000000        473.987042                1  2012      4   \n",
       "490252           -73.959275        404.700000                1  2010      8   \n",
       "577454           -73.960860        406.033332                1  2011     10   \n",
       "761931           -73.978817        404.733332                1  2012      4   \n",
       "...                     ...               ...              ...   ...    ...   \n",
       "12048310          -0.066667        234.054000                1  2012      6   \n",
       "12382098         -73.971752        404.883332                1  2012      3   \n",
       "12941539         -73.954950        404.116667                2  2012      5   \n",
       "12948563           0.000000        400.191755                1  2011     11   \n",
       "12955051         -73.792223        409.233332                3  2011     12   \n",
       "\n",
       "          Date  Day  Hour  Minute  \n",
       "34895       25    6    12      12  \n",
       "235347       7    5    18      54  \n",
       "490252      22    6    17      50  \n",
       "577454      29    5    16      13  \n",
       "761931      23    0    22      43  \n",
       "...        ...  ...   ...     ...  \n",
       "12048310     1    4    22      33  \n",
       "12382098     9    4    10       2  \n",
       "12941539     3    3    19      25  \n",
       "12948563    17    3    16      52  \n",
       "12955051    30    4    14       9  \n",
       "\n",
       "[83 rows x 13 columns]"
      ]
     },
     "execution_count": 41,
     "metadata": {},
     "output_type": "execute_result"
    }
   ],
   "source": [
    "train[train['dropoff_latitude']<-90]\n",
    "train[train['dropoff_latitude']>90]"
   ]
  },
  {
   "cell_type": "code",
   "execution_count": 42,
   "metadata": {},
   "outputs": [],
   "source": [
    "train.drop((train[train['dropoff_latitude']<-90]).index, axis=0,inplace=True)\n",
    "train.drop((train[train['dropoff_latitude']>90]).index, axis=0,inplace=True)"
   ]
  },
  {
   "cell_type": "code",
   "execution_count": 43,
   "metadata": {
    "colab": {
     "base_uri": "https://localhost:8080/",
     "height": 69
    },
    "id": "T2JsfCzzSvKz",
    "outputId": "86c1017a-a4ba-40f7-d24b-3316c52179dd"
   },
   "outputs": [
    {
     "data": {
      "text/html": [
       "<div>\n",
       "<style scoped>\n",
       "    .dataframe tbody tr th:only-of-type {\n",
       "        vertical-align: middle;\n",
       "    }\n",
       "\n",
       "    .dataframe tbody tr th {\n",
       "        vertical-align: top;\n",
       "    }\n",
       "\n",
       "    .dataframe thead th {\n",
       "        text-align: right;\n",
       "    }\n",
       "</style>\n",
       "<table border=\"1\" class=\"dataframe\">\n",
       "  <thead>\n",
       "    <tr style=\"text-align: right;\">\n",
       "      <th></th>\n",
       "      <th>fare_amount</th>\n",
       "      <th>pickup_datetime</th>\n",
       "      <th>pickup_longitude</th>\n",
       "      <th>pickup_latitude</th>\n",
       "      <th>dropoff_longitude</th>\n",
       "      <th>dropoff_latitude</th>\n",
       "      <th>passenger_count</th>\n",
       "      <th>year</th>\n",
       "      <th>Month</th>\n",
       "      <th>Date</th>\n",
       "      <th>Day</th>\n",
       "      <th>Hour</th>\n",
       "      <th>Minute</th>\n",
       "    </tr>\n",
       "  </thead>\n",
       "  <tbody>\n",
       "    <tr>\n",
       "      <th>12512436</th>\n",
       "      <td>6.5</td>\n",
       "      <td>2013-06-19 09:09:00</td>\n",
       "      <td>-73.977688</td>\n",
       "      <td>40.753748</td>\n",
       "      <td>636.662867</td>\n",
       "      <td>40.761505</td>\n",
       "      <td>6</td>\n",
       "      <td>2013</td>\n",
       "      <td>6</td>\n",
       "      <td>19</td>\n",
       "      <td>2</td>\n",
       "      <td>9</td>\n",
       "      <td>9</td>\n",
       "    </tr>\n",
       "  </tbody>\n",
       "</table>\n",
       "</div>"
      ],
      "text/plain": [
       "          fare_amount     pickup_datetime  pickup_longitude  pickup_latitude  \\\n",
       "12512436          6.5 2013-06-19 09:09:00        -73.977688        40.753748   \n",
       "\n",
       "          dropoff_longitude  dropoff_latitude  passenger_count  year  Month  \\\n",
       "12512436         636.662867         40.761505                6  2013      6   \n",
       "\n",
       "          Date  Day  Hour  Minute  \n",
       "12512436    19    2     9       9  "
      ]
     },
     "execution_count": 43,
     "metadata": {},
     "output_type": "execute_result"
    }
   ],
   "source": [
    "train[train['dropoff_longitude']<-180]\n",
    "train[train['dropoff_longitude']>180]"
   ]
  },
  {
   "cell_type": "code",
   "execution_count": 44,
   "metadata": {},
   "outputs": [],
   "source": [
    "train.drop((train[train['dropoff_longitude']<-180]).index, axis=0,inplace=True)\n",
    "train.drop((train[train['dropoff_longitude']>180]).index, axis=0,inplace=True)"
   ]
  },
  {
   "cell_type": "code",
   "execution_count": 45,
   "metadata": {
    "colab": {
     "base_uri": "https://localhost:8080/"
    },
    "id": "BlxpW4UdSvK0",
    "outputId": "2aaebd69-9229-4499-dd54-6069880d4e05"
   },
   "outputs": [
    {
     "data": {
      "text/plain": [
       "(12957559, 13)"
      ]
     },
     "execution_count": 45,
     "metadata": {},
     "output_type": "execute_result"
    }
   ],
   "source": [
    "train.shape"
   ]
  },
  {
   "cell_type": "code",
   "execution_count": 46,
   "metadata": {
    "colab": {
     "base_uri": "https://localhost:8080/"
    },
    "id": "b9KGEpgKSvK0",
    "outputId": "70ca80bd-81fd-4251-f31b-759890237156"
   },
   "outputs": [
    {
     "data": {
      "text/plain": [
       "fare_amount          0\n",
       "pickup_datetime      0\n",
       "pickup_longitude     0\n",
       "pickup_latitude      0\n",
       "dropoff_longitude    0\n",
       "dropoff_latitude     0\n",
       "passenger_count      0\n",
       "year                 0\n",
       "Month                0\n",
       "Date                 0\n",
       "Day                  0\n",
       "Hour                 0\n",
       "Minute               0\n",
       "dtype: int64"
      ]
     },
     "execution_count": 46,
     "metadata": {},
     "output_type": "execute_result"
    }
   ],
   "source": [
    "train.isnull().sum()"
   ]
  },
  {
   "cell_type": "code",
   "execution_count": 47,
   "metadata": {},
   "outputs": [
    {
     "data": {
      "text/plain": [
       "pickup_datetime      0\n",
       "pickup_longitude     0\n",
       "pickup_latitude      0\n",
       "dropoff_longitude    0\n",
       "dropoff_latitude     0\n",
       "passenger_count      0\n",
       "year                 0\n",
       "Month                0\n",
       "Date                 0\n",
       "Day                  0\n",
       "Hour                 0\n",
       "Minute               0\n",
       "dtype: int64"
      ]
     },
     "execution_count": 47,
     "metadata": {},
     "output_type": "execute_result"
    }
   ],
   "source": [
    "test.isnull().sum()"
   ]
  },
  {
   "cell_type": "markdown",
   "metadata": {
    "id": "W67ZypqJSvK0"
   },
   "source": [
    "### Now we have successfully cleared our both datasets. Thus proceeding for further operations:"
   ]
  },
  {
   "cell_type": "markdown",
   "metadata": {
    "id": "Tjadh6rSSvK1"
   },
   "source": [
    "Calculating distance based on the given coordinates :\n"
   ]
  },
  {
   "cell_type": "code",
   "execution_count": 48,
   "metadata": {
    "id": "XBykozKWSvK1"
   },
   "outputs": [],
   "source": [
    "#As we know that we have given pickup longitute and latitude values and same for drop. \n",
    "#So we need to calculate the distance Using the haversine formula and we will create a new variable called distance\n",
    "from math import radians, cos, sin, asin, sqrt\n",
    "\n",
    "def haversine(a):\n",
    "    lon1=a[0]\n",
    "    lat1=a[1]\n",
    "    lon2=a[2]\n",
    "    lat2=a[3]\n",
    "    \"\"\"\n",
    "    Calculate the great circle distance between two points \n",
    "    on the earth (specified in decimal degrees)\n",
    "    \"\"\"\n",
    "    # convert decimal degrees to radians \n",
    "    lon1, lat1, lon2, lat2 = map(radians, [lon1, lat1, lon2, lat2])\n",
    "    \n",
    "    # haversine formula \n",
    "    dlon = lon2 - lon1 \n",
    "    dlat = lat2 - lat1 \n",
    "    a = sin(dlat/2)**2 + cos(lat1) * cos(lat2) * sin(dlon/2)**2\n",
    "    c =  2 * asin(sqrt(a))\n",
    "    # Radius of earth in kilometers is 6371\n",
    "    km = 6371* c\n",
    "    return km\n",
    "# 1min "
   ]
  },
  {
   "cell_type": "code",
   "execution_count": 49,
   "metadata": {
    "id": "z72hTlnJSvK1"
   },
   "outputs": [],
   "source": [
    "train['distance'] = train[['pickup_longitude','pickup_latitude','dropoff_longitude','dropoff_latitude']].apply(haversine,axis=1)"
   ]
  },
  {
   "cell_type": "code",
   "execution_count": 50,
   "metadata": {},
   "outputs": [],
   "source": [
    "test['distance'] = test[['pickup_longitude','pickup_latitude','dropoff_longitude','dropoff_latitude']].apply(haversine,axis=1)"
   ]
  },
  {
   "cell_type": "code",
   "execution_count": 51,
   "metadata": {},
   "outputs": [
    {
     "data": {
      "text/html": [
       "<div>\n",
       "<style scoped>\n",
       "    .dataframe tbody tr th:only-of-type {\n",
       "        vertical-align: middle;\n",
       "    }\n",
       "\n",
       "    .dataframe tbody tr th {\n",
       "        vertical-align: top;\n",
       "    }\n",
       "\n",
       "    .dataframe thead th {\n",
       "        text-align: right;\n",
       "    }\n",
       "</style>\n",
       "<table border=\"1\" class=\"dataframe\">\n",
       "  <thead>\n",
       "    <tr style=\"text-align: right;\">\n",
       "      <th></th>\n",
       "      <th>fare_amount</th>\n",
       "      <th>pickup_datetime</th>\n",
       "      <th>pickup_longitude</th>\n",
       "      <th>pickup_latitude</th>\n",
       "      <th>dropoff_longitude</th>\n",
       "      <th>dropoff_latitude</th>\n",
       "      <th>passenger_count</th>\n",
       "      <th>year</th>\n",
       "      <th>Month</th>\n",
       "      <th>Date</th>\n",
       "      <th>Day</th>\n",
       "      <th>Hour</th>\n",
       "      <th>Minute</th>\n",
       "      <th>distance</th>\n",
       "    </tr>\n",
       "  </thead>\n",
       "  <tbody>\n",
       "    <tr>\n",
       "      <th>0</th>\n",
       "      <td>6.1</td>\n",
       "      <td>2010-06-15 22:37:37</td>\n",
       "      <td>-73.987103</td>\n",
       "      <td>40.736700</td>\n",
       "      <td>-73.979968</td>\n",
       "      <td>40.722660</td>\n",
       "      <td>1</td>\n",
       "      <td>2010</td>\n",
       "      <td>6</td>\n",
       "      <td>15</td>\n",
       "      <td>1</td>\n",
       "      <td>22</td>\n",
       "      <td>37</td>\n",
       "      <td>1.672942</td>\n",
       "    </tr>\n",
       "    <tr>\n",
       "      <th>1</th>\n",
       "      <td>5.3</td>\n",
       "      <td>2012-01-15 05:05:00</td>\n",
       "      <td>-73.945183</td>\n",
       "      <td>40.802335</td>\n",
       "      <td>-73.940880</td>\n",
       "      <td>40.792632</td>\n",
       "      <td>5</td>\n",
       "      <td>2012</td>\n",
       "      <td>1</td>\n",
       "      <td>15</td>\n",
       "      <td>6</td>\n",
       "      <td>5</td>\n",
       "      <td>5</td>\n",
       "      <td>1.138102</td>\n",
       "    </tr>\n",
       "    <tr>\n",
       "      <th>2</th>\n",
       "      <td>11.0</td>\n",
       "      <td>2014-08-08 13:41:56</td>\n",
       "      <td>-73.981187</td>\n",
       "      <td>40.781080</td>\n",
       "      <td>-73.952317</td>\n",
       "      <td>40.775680</td>\n",
       "      <td>2</td>\n",
       "      <td>2014</td>\n",
       "      <td>8</td>\n",
       "      <td>8</td>\n",
       "      <td>4</td>\n",
       "      <td>13</td>\n",
       "      <td>41</td>\n",
       "      <td>2.503956</td>\n",
       "    </tr>\n",
       "    <tr>\n",
       "      <th>3</th>\n",
       "      <td>6.5</td>\n",
       "      <td>2011-02-15 13:54:00</td>\n",
       "      <td>-73.994452</td>\n",
       "      <td>40.740643</td>\n",
       "      <td>-73.988440</td>\n",
       "      <td>40.752680</td>\n",
       "      <td>3</td>\n",
       "      <td>2011</td>\n",
       "      <td>2</td>\n",
       "      <td>15</td>\n",
       "      <td>1</td>\n",
       "      <td>13</td>\n",
       "      <td>54</td>\n",
       "      <td>1.431069</td>\n",
       "    </tr>\n",
       "    <tr>\n",
       "      <th>5</th>\n",
       "      <td>4.1</td>\n",
       "      <td>2012-05-03 08:42:00</td>\n",
       "      <td>-73.991595</td>\n",
       "      <td>40.754535</td>\n",
       "      <td>-73.983505</td>\n",
       "      <td>40.751178</td>\n",
       "      <td>1</td>\n",
       "      <td>2012</td>\n",
       "      <td>5</td>\n",
       "      <td>3</td>\n",
       "      <td>3</td>\n",
       "      <td>8</td>\n",
       "      <td>42</td>\n",
       "      <td>0.776991</td>\n",
       "    </tr>\n",
       "  </tbody>\n",
       "</table>\n",
       "</div>"
      ],
      "text/plain": [
       "   fare_amount     pickup_datetime  pickup_longitude  pickup_latitude  \\\n",
       "0          6.1 2010-06-15 22:37:37        -73.987103        40.736700   \n",
       "1          5.3 2012-01-15 05:05:00        -73.945183        40.802335   \n",
       "2         11.0 2014-08-08 13:41:56        -73.981187        40.781080   \n",
       "3          6.5 2011-02-15 13:54:00        -73.994452        40.740643   \n",
       "5          4.1 2012-05-03 08:42:00        -73.991595        40.754535   \n",
       "\n",
       "   dropoff_longitude  dropoff_latitude  passenger_count  year  Month  Date  \\\n",
       "0         -73.979968         40.722660                1  2010      6    15   \n",
       "1         -73.940880         40.792632                5  2012      1    15   \n",
       "2         -73.952317         40.775680                2  2014      8     8   \n",
       "3         -73.988440         40.752680                3  2011      2    15   \n",
       "5         -73.983505         40.751178                1  2012      5     3   \n",
       "\n",
       "   Day  Hour  Minute  distance  \n",
       "0    1    22      37  1.672942  \n",
       "1    6     5       5  1.138102  \n",
       "2    4    13      41  2.503956  \n",
       "3    1    13      54  1.431069  \n",
       "5    3     8      42  0.776991  "
      ]
     },
     "execution_count": 51,
     "metadata": {},
     "output_type": "execute_result"
    }
   ],
   "source": [
    "train.head()"
   ]
  },
  {
   "cell_type": "code",
   "execution_count": 52,
   "metadata": {},
   "outputs": [
    {
     "data": {
      "text/html": [
       "<div>\n",
       "<style scoped>\n",
       "    .dataframe tbody tr th:only-of-type {\n",
       "        vertical-align: middle;\n",
       "    }\n",
       "\n",
       "    .dataframe tbody tr th {\n",
       "        vertical-align: top;\n",
       "    }\n",
       "\n",
       "    .dataframe thead th {\n",
       "        text-align: right;\n",
       "    }\n",
       "</style>\n",
       "<table border=\"1\" class=\"dataframe\">\n",
       "  <thead>\n",
       "    <tr style=\"text-align: right;\">\n",
       "      <th></th>\n",
       "      <th>pickup_datetime</th>\n",
       "      <th>pickup_longitude</th>\n",
       "      <th>pickup_latitude</th>\n",
       "      <th>dropoff_longitude</th>\n",
       "      <th>dropoff_latitude</th>\n",
       "      <th>passenger_count</th>\n",
       "      <th>year</th>\n",
       "      <th>Month</th>\n",
       "      <th>Date</th>\n",
       "      <th>Day</th>\n",
       "      <th>Hour</th>\n",
       "      <th>Minute</th>\n",
       "      <th>distance</th>\n",
       "    </tr>\n",
       "  </thead>\n",
       "  <tbody>\n",
       "    <tr>\n",
       "      <th>0</th>\n",
       "      <td>2015-01-27 13:08:24</td>\n",
       "      <td>-73.973320</td>\n",
       "      <td>40.763805</td>\n",
       "      <td>-73.981430</td>\n",
       "      <td>40.743835</td>\n",
       "      <td>1</td>\n",
       "      <td>2015</td>\n",
       "      <td>1</td>\n",
       "      <td>27</td>\n",
       "      <td>1</td>\n",
       "      <td>13</td>\n",
       "      <td>8</td>\n",
       "      <td>2.323260</td>\n",
       "    </tr>\n",
       "    <tr>\n",
       "      <th>1</th>\n",
       "      <td>2015-01-27 13:08:24</td>\n",
       "      <td>-73.986862</td>\n",
       "      <td>40.719383</td>\n",
       "      <td>-73.998886</td>\n",
       "      <td>40.739201</td>\n",
       "      <td>1</td>\n",
       "      <td>2015</td>\n",
       "      <td>1</td>\n",
       "      <td>27</td>\n",
       "      <td>1</td>\n",
       "      <td>13</td>\n",
       "      <td>8</td>\n",
       "      <td>2.425353</td>\n",
       "    </tr>\n",
       "    <tr>\n",
       "      <th>2</th>\n",
       "      <td>2011-10-08 11:53:44</td>\n",
       "      <td>-73.982524</td>\n",
       "      <td>40.751260</td>\n",
       "      <td>-73.979654</td>\n",
       "      <td>40.746139</td>\n",
       "      <td>1</td>\n",
       "      <td>2011</td>\n",
       "      <td>10</td>\n",
       "      <td>8</td>\n",
       "      <td>5</td>\n",
       "      <td>11</td>\n",
       "      <td>53</td>\n",
       "      <td>0.618628</td>\n",
       "    </tr>\n",
       "    <tr>\n",
       "      <th>3</th>\n",
       "      <td>2012-12-01 21:12:12</td>\n",
       "      <td>-73.981160</td>\n",
       "      <td>40.767807</td>\n",
       "      <td>-73.990448</td>\n",
       "      <td>40.751635</td>\n",
       "      <td>1</td>\n",
       "      <td>2012</td>\n",
       "      <td>12</td>\n",
       "      <td>1</td>\n",
       "      <td>5</td>\n",
       "      <td>21</td>\n",
       "      <td>12</td>\n",
       "      <td>1.961033</td>\n",
       "    </tr>\n",
       "    <tr>\n",
       "      <th>4</th>\n",
       "      <td>2012-12-01 21:12:12</td>\n",
       "      <td>-73.966046</td>\n",
       "      <td>40.789775</td>\n",
       "      <td>-73.988565</td>\n",
       "      <td>40.744427</td>\n",
       "      <td>1</td>\n",
       "      <td>2012</td>\n",
       "      <td>12</td>\n",
       "      <td>1</td>\n",
       "      <td>5</td>\n",
       "      <td>21</td>\n",
       "      <td>12</td>\n",
       "      <td>5.387301</td>\n",
       "    </tr>\n",
       "  </tbody>\n",
       "</table>\n",
       "</div>"
      ],
      "text/plain": [
       "      pickup_datetime  pickup_longitude  pickup_latitude  dropoff_longitude  \\\n",
       "0 2015-01-27 13:08:24        -73.973320        40.763805         -73.981430   \n",
       "1 2015-01-27 13:08:24        -73.986862        40.719383         -73.998886   \n",
       "2 2011-10-08 11:53:44        -73.982524        40.751260         -73.979654   \n",
       "3 2012-12-01 21:12:12        -73.981160        40.767807         -73.990448   \n",
       "4 2012-12-01 21:12:12        -73.966046        40.789775         -73.988565   \n",
       "\n",
       "   dropoff_latitude  passenger_count  year  Month  Date  Day  Hour  Minute  \\\n",
       "0         40.743835                1  2015      1    27    1    13       8   \n",
       "1         40.739201                1  2015      1    27    1    13       8   \n",
       "2         40.746139                1  2011     10     8    5    11      53   \n",
       "3         40.751635                1  2012     12     1    5    21      12   \n",
       "4         40.744427                1  2012     12     1    5    21      12   \n",
       "\n",
       "   distance  \n",
       "0  2.323260  \n",
       "1  2.425353  \n",
       "2  0.618628  \n",
       "3  1.961033  \n",
       "4  5.387301  "
      ]
     },
     "execution_count": 52,
     "metadata": {},
     "output_type": "execute_result"
    }
   ],
   "source": [
    "test.head()"
   ]
  },
  {
   "cell_type": "code",
   "execution_count": 53,
   "metadata": {
    "colab": {
     "base_uri": "https://localhost:8080/"
    },
    "id": "RbSgG1xySvK3",
    "outputId": "cf29906b-9ce7-42b7-aa4e-5420bb86d71f"
   },
   "outputs": [
    {
     "data": {
      "text/plain": [
       "fare_amount              5767\n",
       "pickup_datetime       7934047\n",
       "pickup_longitude       225949\n",
       "pickup_latitude        253900\n",
       "dropoff_longitude      295936\n",
       "dropoff_latitude       335493\n",
       "passenger_count             6\n",
       "year                        7\n",
       "Month                      12\n",
       "Date                       31\n",
       "Day                         7\n",
       "Hour                       24\n",
       "Minute                     60\n",
       "distance             12584438\n",
       "dtype: int64"
      ]
     },
     "execution_count": 53,
     "metadata": {},
     "output_type": "execute_result"
    }
   ],
   "source": [
    "train.nunique()"
   ]
  },
  {
   "cell_type": "code",
   "execution_count": 54,
   "metadata": {},
   "outputs": [
    {
     "data": {
      "text/plain": [
       "pickup_datetime      1753\n",
       "pickup_longitude     9125\n",
       "pickup_latitude      9247\n",
       "dropoff_longitude    9142\n",
       "dropoff_latitude     9360\n",
       "passenger_count         6\n",
       "year                    7\n",
       "Month                  12\n",
       "Date                   31\n",
       "Day                     7\n",
       "Hour                   24\n",
       "Minute                 60\n",
       "distance             9830\n",
       "dtype: int64"
      ]
     },
     "execution_count": 54,
     "metadata": {},
     "output_type": "execute_result"
    }
   ],
   "source": [
    "test.nunique()"
   ]
  },
  {
   "cell_type": "code",
   "execution_count": 55,
   "metadata": {
    "colab": {
     "base_uri": "https://localhost:8080/"
    },
    "id": "HRkaJDfFSvK4",
    "outputId": "e5eb643c-b7b1-4f12-f27e-d5151183e998"
   },
   "outputs": [
    {
     "data": {
      "text/plain": [
       "1594508     10003.498873\n",
       "9324867      9994.811818\n",
       "9401952      9946.342788\n",
       "10675120     9749.934087\n",
       "7488056      9542.246703\n",
       "                ...     \n",
       "4361922         0.000000\n",
       "12521741        0.000000\n",
       "10499066        0.000000\n",
       "8827495         0.000000\n",
       "769908          0.000000\n",
       "Name: distance, Length: 12957559, dtype: float64"
      ]
     },
     "execution_count": 55,
     "metadata": {},
     "output_type": "execute_result"
    }
   ],
   "source": [
    "##finding decending order of fare to get to know whether the outliers are presented or not\n",
    "train['distance'].sort_values(ascending=False)"
   ]
  },
  {
   "cell_type": "code",
   "execution_count": 56,
   "metadata": {
    "colab": {
     "base_uri": "https://localhost:8080/"
    },
    "id": "xCegwrGfSvK4",
    "outputId": "9be9f6e8-6117-4763-cbdd-2148e84bb2d1"
   },
   "outputs": [
    {
     "data": {
      "text/plain": [
       "Counter({False: 12587667, True: 369892})"
      ]
     },
     "execution_count": 56,
     "metadata": {},
     "output_type": "execute_result"
    }
   ],
   "source": [
    "Counter(train['distance'] == 0)"
   ]
  },
  {
   "cell_type": "code",
   "execution_count": 57,
   "metadata": {
    "colab": {
     "base_uri": "https://localhost:8080/"
    },
    "id": "6lcEqkivSvK7",
    "outputId": "d81bac00-b701-4f62-84cd-cf74896ff982"
   },
   "outputs": [
    {
     "data": {
      "text/plain": [
       "Counter({False: 12957559})"
      ]
     },
     "execution_count": 57,
     "metadata": {},
     "output_type": "execute_result"
    }
   ],
   "source": [
    "Counter(train['fare_amount'] == 0)"
   ]
  },
  {
   "cell_type": "code",
   "execution_count": 58,
   "metadata": {
    "colab": {
     "base_uri": "https://localhost:8080/"
    },
    "id": "cQZGBv_8SvK8",
    "outputId": "d790838b-684d-4d45-9810-ef0848100c80"
   },
   "outputs": [
    {
     "data": {
      "text/plain": [
       "(12587667, 14)"
      ]
     },
     "execution_count": 58,
     "metadata": {},
     "output_type": "execute_result"
    }
   ],
   "source": [
    "###we will remove the rows whose distance value is zero\n",
    "\n",
    "train = train.drop(train[train['distance']== 0].index, axis=0)\n",
    "train.shape"
   ]
  },
  {
   "cell_type": "code",
   "execution_count": 66,
   "metadata": {
    "colab": {
     "base_uri": "https://localhost:8080/"
    },
    "id": "OxFPM52zSvK8",
    "outputId": "6df96fc9-338b-40bd-8c2e-c04903c9c245"
   },
   "outputs": [
    {
     "data": {
      "text/plain": [
       "(12557534, 14)"
      ]
     },
     "execution_count": 66,
     "metadata": {},
     "output_type": "execute_result"
    }
   ],
   "source": [
    "#we will remove the rows whose distance values is very high which is more than 80kms\n",
    "train = train.drop(train[train['distance'] > 80 ].index, axis=0)\n",
    "train.shape"
   ]
  },
  {
   "cell_type": "code",
   "execution_count": 68,
   "metadata": {
    "colab": {
     "base_uri": "https://localhost:8080/",
     "height": 309
    },
    "id": "ZFbgZFcOSvK8",
    "outputId": "0beefad2-b8ef-4cf9-f4dc-837c820ae177"
   },
   "outputs": [
    {
     "data": {
      "text/html": [
       "<div>\n",
       "<style scoped>\n",
       "    .dataframe tbody tr th:only-of-type {\n",
       "        vertical-align: middle;\n",
       "    }\n",
       "\n",
       "    .dataframe tbody tr th {\n",
       "        vertical-align: top;\n",
       "    }\n",
       "\n",
       "    .dataframe thead th {\n",
       "        text-align: right;\n",
       "    }\n",
       "</style>\n",
       "<table border=\"1\" class=\"dataframe\">\n",
       "  <thead>\n",
       "    <tr style=\"text-align: right;\">\n",
       "      <th></th>\n",
       "      <th>fare_amount</th>\n",
       "      <th>pickup_datetime</th>\n",
       "      <th>pickup_longitude</th>\n",
       "      <th>pickup_latitude</th>\n",
       "      <th>dropoff_longitude</th>\n",
       "      <th>dropoff_latitude</th>\n",
       "      <th>passenger_count</th>\n",
       "      <th>year</th>\n",
       "      <th>Month</th>\n",
       "      <th>Date</th>\n",
       "      <th>Day</th>\n",
       "      <th>Hour</th>\n",
       "      <th>Minute</th>\n",
       "      <th>distance</th>\n",
       "    </tr>\n",
       "  </thead>\n",
       "  <tbody>\n",
       "    <tr>\n",
       "      <th>0</th>\n",
       "      <td>6.1</td>\n",
       "      <td>2010-06-15 22:37:37</td>\n",
       "      <td>-73.987103</td>\n",
       "      <td>40.736700</td>\n",
       "      <td>-73.979968</td>\n",
       "      <td>40.722660</td>\n",
       "      <td>1</td>\n",
       "      <td>2010</td>\n",
       "      <td>6</td>\n",
       "      <td>15</td>\n",
       "      <td>1</td>\n",
       "      <td>22</td>\n",
       "      <td>37</td>\n",
       "      <td>1.672942</td>\n",
       "    </tr>\n",
       "    <tr>\n",
       "      <th>1</th>\n",
       "      <td>5.3</td>\n",
       "      <td>2012-01-15 05:05:00</td>\n",
       "      <td>-73.945183</td>\n",
       "      <td>40.802335</td>\n",
       "      <td>-73.940880</td>\n",
       "      <td>40.792632</td>\n",
       "      <td>5</td>\n",
       "      <td>2012</td>\n",
       "      <td>1</td>\n",
       "      <td>15</td>\n",
       "      <td>6</td>\n",
       "      <td>5</td>\n",
       "      <td>5</td>\n",
       "      <td>1.138102</td>\n",
       "    </tr>\n",
       "    <tr>\n",
       "      <th>2</th>\n",
       "      <td>11.0</td>\n",
       "      <td>2014-08-08 13:41:56</td>\n",
       "      <td>-73.981187</td>\n",
       "      <td>40.781080</td>\n",
       "      <td>-73.952317</td>\n",
       "      <td>40.775680</td>\n",
       "      <td>2</td>\n",
       "      <td>2014</td>\n",
       "      <td>8</td>\n",
       "      <td>8</td>\n",
       "      <td>4</td>\n",
       "      <td>13</td>\n",
       "      <td>41</td>\n",
       "      <td>2.503956</td>\n",
       "    </tr>\n",
       "    <tr>\n",
       "      <th>3</th>\n",
       "      <td>6.5</td>\n",
       "      <td>2011-02-15 13:54:00</td>\n",
       "      <td>-73.994452</td>\n",
       "      <td>40.740643</td>\n",
       "      <td>-73.988440</td>\n",
       "      <td>40.752680</td>\n",
       "      <td>3</td>\n",
       "      <td>2011</td>\n",
       "      <td>2</td>\n",
       "      <td>15</td>\n",
       "      <td>1</td>\n",
       "      <td>13</td>\n",
       "      <td>54</td>\n",
       "      <td>1.431069</td>\n",
       "    </tr>\n",
       "    <tr>\n",
       "      <th>5</th>\n",
       "      <td>4.1</td>\n",
       "      <td>2012-05-03 08:42:00</td>\n",
       "      <td>-73.991595</td>\n",
       "      <td>40.754535</td>\n",
       "      <td>-73.983505</td>\n",
       "      <td>40.751178</td>\n",
       "      <td>1</td>\n",
       "      <td>2012</td>\n",
       "      <td>5</td>\n",
       "      <td>3</td>\n",
       "      <td>3</td>\n",
       "      <td>8</td>\n",
       "      <td>42</td>\n",
       "      <td>0.776991</td>\n",
       "    </tr>\n",
       "  </tbody>\n",
       "</table>\n",
       "</div>"
      ],
      "text/plain": [
       "   fare_amount     pickup_datetime  pickup_longitude  pickup_latitude  \\\n",
       "0          6.1 2010-06-15 22:37:37        -73.987103        40.736700   \n",
       "1          5.3 2012-01-15 05:05:00        -73.945183        40.802335   \n",
       "2         11.0 2014-08-08 13:41:56        -73.981187        40.781080   \n",
       "3          6.5 2011-02-15 13:54:00        -73.994452        40.740643   \n",
       "5          4.1 2012-05-03 08:42:00        -73.991595        40.754535   \n",
       "\n",
       "   dropoff_longitude  dropoff_latitude  passenger_count  year  Month  Date  \\\n",
       "0         -73.979968         40.722660                1  2010      6    15   \n",
       "1         -73.940880         40.792632                5  2012      1    15   \n",
       "2         -73.952317         40.775680                2  2014      8     8   \n",
       "3         -73.988440         40.752680                3  2011      2    15   \n",
       "5         -73.983505         40.751178                1  2012      5     3   \n",
       "\n",
       "   Day  Hour  Minute  distance  \n",
       "0    1    22      37  1.672942  \n",
       "1    6     5       5  1.138102  \n",
       "2    4    13      41  2.503956  \n",
       "3    1    13      54  1.431069  \n",
       "5    3     8      42  0.776991  "
      ]
     },
     "execution_count": 68,
     "metadata": {},
     "output_type": "execute_result"
    }
   ],
   "source": [
    "train.head()"
   ]
  },
  {
   "cell_type": "markdown",
   "metadata": {
    "id": "Lu9ItsX7SvK9"
   },
   "source": [
    "Now we have splitted the pickup date time variable into different varaibles like month, year, day etc so now we dont need to have that pickup_Date variable now. Hence we can drop that, Also we have created distance using pickup and drop longitudes and latitudes so we will also drop pickup and drop longitudes and latitudes variables."
   ]
  },
  {
   "cell_type": "code",
   "execution_count": 69,
   "metadata": {
    "id": "jTGqG6zSSvK9"
   },
   "outputs": [],
   "source": [
    "drop = ['pickup_datetime', 'pickup_longitude', 'pickup_latitude','dropoff_longitude', 'dropoff_latitude', 'Minute']\n",
    "train = train.drop(drop, axis = 1)"
   ]
  },
  {
   "cell_type": "code",
   "execution_count": 70,
   "metadata": {
    "colab": {
     "base_uri": "https://localhost:8080/",
     "height": 204
    },
    "id": "E6V0sMaCSvK9",
    "outputId": "bb2dbfb8-31e7-4376-cd86-295c09ebc010"
   },
   "outputs": [
    {
     "data": {
      "text/html": [
       "<div>\n",
       "<style scoped>\n",
       "    .dataframe tbody tr th:only-of-type {\n",
       "        vertical-align: middle;\n",
       "    }\n",
       "\n",
       "    .dataframe tbody tr th {\n",
       "        vertical-align: top;\n",
       "    }\n",
       "\n",
       "    .dataframe thead th {\n",
       "        text-align: right;\n",
       "    }\n",
       "</style>\n",
       "<table border=\"1\" class=\"dataframe\">\n",
       "  <thead>\n",
       "    <tr style=\"text-align: right;\">\n",
       "      <th></th>\n",
       "      <th>fare_amount</th>\n",
       "      <th>passenger_count</th>\n",
       "      <th>year</th>\n",
       "      <th>Month</th>\n",
       "      <th>Date</th>\n",
       "      <th>Day</th>\n",
       "      <th>Hour</th>\n",
       "      <th>distance</th>\n",
       "    </tr>\n",
       "  </thead>\n",
       "  <tbody>\n",
       "    <tr>\n",
       "      <th>0</th>\n",
       "      <td>6.1</td>\n",
       "      <td>1</td>\n",
       "      <td>2010</td>\n",
       "      <td>6</td>\n",
       "      <td>15</td>\n",
       "      <td>1</td>\n",
       "      <td>22</td>\n",
       "      <td>1.672942</td>\n",
       "    </tr>\n",
       "    <tr>\n",
       "      <th>1</th>\n",
       "      <td>5.3</td>\n",
       "      <td>5</td>\n",
       "      <td>2012</td>\n",
       "      <td>1</td>\n",
       "      <td>15</td>\n",
       "      <td>6</td>\n",
       "      <td>5</td>\n",
       "      <td>1.138102</td>\n",
       "    </tr>\n",
       "    <tr>\n",
       "      <th>2</th>\n",
       "      <td>11.0</td>\n",
       "      <td>2</td>\n",
       "      <td>2014</td>\n",
       "      <td>8</td>\n",
       "      <td>8</td>\n",
       "      <td>4</td>\n",
       "      <td>13</td>\n",
       "      <td>2.503956</td>\n",
       "    </tr>\n",
       "    <tr>\n",
       "      <th>3</th>\n",
       "      <td>6.5</td>\n",
       "      <td>3</td>\n",
       "      <td>2011</td>\n",
       "      <td>2</td>\n",
       "      <td>15</td>\n",
       "      <td>1</td>\n",
       "      <td>13</td>\n",
       "      <td>1.431069</td>\n",
       "    </tr>\n",
       "    <tr>\n",
       "      <th>5</th>\n",
       "      <td>4.1</td>\n",
       "      <td>1</td>\n",
       "      <td>2012</td>\n",
       "      <td>5</td>\n",
       "      <td>3</td>\n",
       "      <td>3</td>\n",
       "      <td>8</td>\n",
       "      <td>0.776991</td>\n",
       "    </tr>\n",
       "  </tbody>\n",
       "</table>\n",
       "</div>"
      ],
      "text/plain": [
       "   fare_amount  passenger_count  year  Month  Date  Day  Hour  distance\n",
       "0          6.1                1  2010      6    15    1    22  1.672942\n",
       "1          5.3                5  2012      1    15    6     5  1.138102\n",
       "2         11.0                2  2014      8     8    4    13  2.503956\n",
       "3          6.5                3  2011      2    15    1    13  1.431069\n",
       "5          4.1                1  2012      5     3    3     8  0.776991"
      ]
     },
     "execution_count": 70,
     "metadata": {},
     "output_type": "execute_result"
    }
   ],
   "source": [
    "train.head()"
   ]
  },
  {
   "cell_type": "code",
   "execution_count": 71,
   "metadata": {},
   "outputs": [],
   "source": [
    "train.to_csv('train.csv')"
   ]
  },
  {
   "cell_type": "code",
   "execution_count": 72,
   "metadata": {
    "colab": {
     "base_uri": "https://localhost:8080/"
    },
    "id": "tQWNqvCsSvK-",
    "outputId": "0361cee9-2a33-44b0-8f09-4fc31897796b"
   },
   "outputs": [
    {
     "data": {
      "text/plain": [
       "fare_amount        float64\n",
       "passenger_count      int64\n",
       "year                 int64\n",
       "Month                int64\n",
       "Date                 int64\n",
       "Day                  int64\n",
       "Hour                 int64\n",
       "distance           float64\n",
       "dtype: object"
      ]
     },
     "execution_count": 72,
     "metadata": {},
     "output_type": "execute_result"
    }
   ],
   "source": [
    "train.dtypes"
   ]
  },
  {
   "cell_type": "code",
   "execution_count": 73,
   "metadata": {},
   "outputs": [],
   "source": [
    "drop_test = ['pickup_datetime', 'pickup_longitude', 'pickup_latitude','dropoff_longitude', 'dropoff_latitude', 'Minute']\n",
    "test = test.drop(drop_test, axis = 1)"
   ]
  },
  {
   "cell_type": "code",
   "execution_count": 74,
   "metadata": {},
   "outputs": [
    {
     "data": {
      "text/html": [
       "<div>\n",
       "<style scoped>\n",
       "    .dataframe tbody tr th:only-of-type {\n",
       "        vertical-align: middle;\n",
       "    }\n",
       "\n",
       "    .dataframe tbody tr th {\n",
       "        vertical-align: top;\n",
       "    }\n",
       "\n",
       "    .dataframe thead th {\n",
       "        text-align: right;\n",
       "    }\n",
       "</style>\n",
       "<table border=\"1\" class=\"dataframe\">\n",
       "  <thead>\n",
       "    <tr style=\"text-align: right;\">\n",
       "      <th></th>\n",
       "      <th>passenger_count</th>\n",
       "      <th>year</th>\n",
       "      <th>Month</th>\n",
       "      <th>Date</th>\n",
       "      <th>Day</th>\n",
       "      <th>Hour</th>\n",
       "      <th>distance</th>\n",
       "    </tr>\n",
       "  </thead>\n",
       "  <tbody>\n",
       "    <tr>\n",
       "      <th>0</th>\n",
       "      <td>1</td>\n",
       "      <td>2015</td>\n",
       "      <td>1</td>\n",
       "      <td>27</td>\n",
       "      <td>1</td>\n",
       "      <td>13</td>\n",
       "      <td>2.323260</td>\n",
       "    </tr>\n",
       "    <tr>\n",
       "      <th>1</th>\n",
       "      <td>1</td>\n",
       "      <td>2015</td>\n",
       "      <td>1</td>\n",
       "      <td>27</td>\n",
       "      <td>1</td>\n",
       "      <td>13</td>\n",
       "      <td>2.425353</td>\n",
       "    </tr>\n",
       "    <tr>\n",
       "      <th>2</th>\n",
       "      <td>1</td>\n",
       "      <td>2011</td>\n",
       "      <td>10</td>\n",
       "      <td>8</td>\n",
       "      <td>5</td>\n",
       "      <td>11</td>\n",
       "      <td>0.618628</td>\n",
       "    </tr>\n",
       "    <tr>\n",
       "      <th>3</th>\n",
       "      <td>1</td>\n",
       "      <td>2012</td>\n",
       "      <td>12</td>\n",
       "      <td>1</td>\n",
       "      <td>5</td>\n",
       "      <td>21</td>\n",
       "      <td>1.961033</td>\n",
       "    </tr>\n",
       "    <tr>\n",
       "      <th>4</th>\n",
       "      <td>1</td>\n",
       "      <td>2012</td>\n",
       "      <td>12</td>\n",
       "      <td>1</td>\n",
       "      <td>5</td>\n",
       "      <td>21</td>\n",
       "      <td>5.387301</td>\n",
       "    </tr>\n",
       "  </tbody>\n",
       "</table>\n",
       "</div>"
      ],
      "text/plain": [
       "   passenger_count  year  Month  Date  Day  Hour  distance\n",
       "0                1  2015      1    27    1    13  2.323260\n",
       "1                1  2015      1    27    1    13  2.425353\n",
       "2                1  2011     10     8    5    11  0.618628\n",
       "3                1  2012     12     1    5    21  1.961033\n",
       "4                1  2012     12     1    5    21  5.387301"
      ]
     },
     "execution_count": 74,
     "metadata": {},
     "output_type": "execute_result"
    }
   ],
   "source": [
    "test.head()"
   ]
  },
  {
   "cell_type": "code",
   "execution_count": 75,
   "metadata": {},
   "outputs": [
    {
     "data": {
      "text/plain": [
       "passenger_count      int64\n",
       "year                 int64\n",
       "Month                int64\n",
       "Date                 int64\n",
       "Day                  int64\n",
       "Hour                 int64\n",
       "distance           float64\n",
       "dtype: object"
      ]
     },
     "execution_count": 75,
     "metadata": {},
     "output_type": "execute_result"
    }
   ],
   "source": [
    "test.dtypes"
   ]
  },
  {
   "cell_type": "code",
   "execution_count": 76,
   "metadata": {},
   "outputs": [
    {
     "data": {
      "text/plain": [
       "(12557534, 8)"
      ]
     },
     "execution_count": 76,
     "metadata": {},
     "output_type": "execute_result"
    }
   ],
   "source": [
    "train.shape"
   ]
  },
  {
   "cell_type": "code",
   "execution_count": 77,
   "metadata": {},
   "outputs": [
    {
     "data": {
      "text/plain": [
       "(9914, 7)"
      ]
     },
     "execution_count": 77,
     "metadata": {},
     "output_type": "execute_result"
    }
   ],
   "source": [
    "test.shape"
   ]
  },
  {
   "cell_type": "markdown",
   "metadata": {
    "id": "lcV72nnBSvK_"
   },
   "source": [
    "# Data Visualization :"
   ]
  },
  {
   "cell_type": "markdown",
   "metadata": {
    "id": "j6s9FjfuSvK_"
   },
   "source": [
    "Visualization of following:\n",
    "\n",
    "1. Number of Passengers effects the the fare\n",
    "2. Distance effects the fare"
   ]
  },
  {
   "cell_type": "code",
   "execution_count": 78,
   "metadata": {
    "colab": {
     "base_uri": "https://localhost:8080/",
     "height": 460
    },
    "id": "YPDQJ-uoSvK_",
    "outputId": "473d100a-db56-49e4-e11b-78212391f60d"
   },
   "outputs": [
    {
     "data": {
      "text/plain": [
       "<AxesSubplot:xlabel='passenger_count', ylabel='count'>"
      ]
     },
     "execution_count": 78,
     "metadata": {},
     "output_type": "execute_result"
    },
    {
     "data": {
      "image/png": "[encoded data removed]",
      "text/plain": [
       "<Figure size 1080x504 with 1 Axes>"
      ]
     },
     "metadata": {
      "needs_background": "light"
     },
     "output_type": "display_data"
    }
   ],
   "source": [
    "# Count plot on passenger count\n",
    "plt.figure(figsize=(15,7))\n",
    "sns.countplot(x=\"passenger_count\", data=train)"
   ]
  },
  {
   "cell_type": "code",
   "execution_count": 79,
   "metadata": {
    "colab": {
     "base_uri": "https://localhost:8080/",
     "height": 445
    },
    "id": "FWws-ruDSvLA",
    "outputId": "5c803ead-cd61-42c3-9652-c9e36bebd2f0"
   },
   "outputs": [
    {
     "data": {
      "image/png": "[encoded data removed]",
      "text/plain": [
       "<Figure size 1080x504 with 1 Axes>"
      ]
     },
     "metadata": {
      "needs_background": "light"
     },
     "output_type": "display_data"
    }
   ],
   "source": [
    "plt.figure(figsize=(15,7))\n",
    "train.groupby(train[\"Hour\"])['Hour'].count().plot(kind=\"bar\")\n",
    "plt.show()"
   ]
  },
  {
   "cell_type": "markdown",
   "metadata": {
    "id": "-jWDonrPSvLB"
   },
   "source": [
    "Lowest cabs at 5 AM and highest at and around 7 PM i.e the office rush hours"
   ]
  },
  {
   "cell_type": "markdown",
   "metadata": {
    "id": "QFt3PzpVSvLC"
   },
   "source": [
    "From the above plot We can observe that the cabs taken at 5 am and 23 Pm are the costliest. \n",
    "Hence we can assume that cabs taken early in morning and late at night are costliest\n"
   ]
  },
  {
   "cell_type": "code",
   "execution_count": 80,
   "metadata": {
    "colab": {
     "base_uri": "https://localhost:8080/",
     "height": 442
    },
    "id": "_e66pVkMSvLF",
    "outputId": "0486c572-d010-4bef-af73-ab22f3b4823a"
   },
   "outputs": [
    {
     "data": {
      "image/png": "[encoded data removed]",
      "text/plain": [
       "<Figure size 1080x504 with 1 Axes>"
      ]
     },
     "metadata": {
      "needs_background": "light"
     },
     "output_type": "display_data"
    }
   ],
   "source": [
    "#Relationship between distance and fare \n",
    "plt.figure(figsize=(15,7))\n",
    "plt.scatter(x = train['distance'],y = train['fare_amount'],c = \"g\")\n",
    "plt.xlabel('Distance')\n",
    "plt.ylabel('Fare')\n",
    "plt.show()"
   ]
  },
  {
   "cell_type": "markdown",
   "metadata": {
    "id": "8yO749BZSvLG"
   },
   "source": [
    "**It is quite obvious that distance will effect the amount of fare**"
   ]
  },
  {
   "cell_type": "markdown",
   "metadata": {
    "id": "rla1zfxFSvLK"
   },
   "source": [
    "# Applying ML ALgorithms: "
   ]
  },
  {
   "cell_type": "code",
   "execution_count": 92,
   "metadata": {},
   "outputs": [],
   "source": [
    "X = train.drop('fare_amount',axis=1).values\n",
    "y = train['fare_amount'].values"
   ]
  },
  {
   "cell_type": "code",
   "execution_count": 163,
   "metadata": {
    "id": "xYUFJIY5SvLL"
   },
   "outputs": [],
   "source": [
    "##train test split for further modelling\n",
    "X_train, X_test, y_train, y_test = train_test_split( train.iloc[:, train.columns != 'fare_amount'], \n",
    "                         train.iloc[:, 0], test_size = 0.20, random_state = 1)"
   ]
  },
  {
   "cell_type": "code",
   "execution_count": 164,
   "metadata": {
    "colab": {
     "base_uri": "https://localhost:8080/"
    },
    "id": "OTQwXsIcSvLL",
    "outputId": "a43675f9-e6dc-4e34-8cb3-71e47ab22ed0"
   },
   "outputs": [
    {
     "name": "stdout",
     "output_type": "stream",
     "text": [
      "(10046027, 7)\n",
      "(2511507, 7)\n"
     ]
    }
   ],
   "source": [
    "print(X_train.shape)\n",
    "print(X_test.shape)"
   ]
  },
  {
   "cell_type": "markdown",
   "metadata": {
    "id": "PzJ6ezPASvLL"
   },
   "source": [
    "### Multiple Linear Regression Model :"
   ]
  },
  {
   "cell_type": "code",
   "execution_count": 165,
   "metadata": {
    "id": "BobW6iw4SvLL"
   },
   "outputs": [],
   "source": [
    "# Building model on top of training dataset\n",
    "fit_LR = LinearRegression(copy_X= True, fit_intercept=True).fit(X_train , y_train)"
   ]
  },
  {
   "cell_type": "code",
   "execution_count": 166,
   "metadata": {},
   "outputs": [
    {
     "data": {
      "text/plain": [
       "0.7688861229813684"
      ]
     },
     "execution_count": 166,
     "metadata": {},
     "output_type": "execute_result"
    }
   ],
   "source": [
    "fit_LR.score(X_test, y_test)"
   ]
  },
  {
   "cell_type": "code",
   "execution_count": 167,
   "metadata": {},
   "outputs": [
    {
     "data": {
      "text/plain": [
       "0.7693328099173493"
      ]
     },
     "execution_count": 167,
     "metadata": {},
     "output_type": "execute_result"
    }
   ],
   "source": [
    "fit_LR.score(X_train, y_train)"
   ]
  },
  {
   "cell_type": "code",
   "execution_count": 168,
   "metadata": {
    "id": "tPhqjkgRSvLM"
   },
   "outputs": [],
   "source": [
    "#prediction on train data\n",
    "pred_train_LR = fit_LR.predict(X_train)"
   ]
  },
  {
   "cell_type": "code",
   "execution_count": 169,
   "metadata": {
    "id": "sOjiMhjnSvLM"
   },
   "outputs": [],
   "source": [
    "#prediction on test data\n",
    "pred_test_LR = fit_LR.predict(X_test)"
   ]
  },
  {
   "cell_type": "code",
   "execution_count": 170,
   "metadata": {
    "id": "5esHIWmeSvLM"
   },
   "outputs": [],
   "source": [
    "##calculating RMSE for test data\n",
    "RMSE_test_LR = np.sqrt(mean_squared_error(y_test, pred_test_LR))\n",
    "\n",
    "##calculating RMSE for train data\n",
    "RMSE_train_LR= np.sqrt(mean_squared_error(y_train, pred_train_LR))"
   ]
  },
  {
   "cell_type": "code",
   "execution_count": 171,
   "metadata": {
    "colab": {
     "base_uri": "https://localhost:8080/"
    },
    "id": "DzVVy4SsSvLM",
    "outputId": "bda7f311-e4ad-4c51-85b1-ff0bed869af3"
   },
   "outputs": [
    {
     "name": "stdout",
     "output_type": "stream",
     "text": [
      "Root Mean Squared Error For Training data = 4.6176205283162055\n",
      "Root Mean Squared Error For Test data = 4.6204036075609345\n"
     ]
    }
   ],
   "source": [
    "print(\"Root Mean Squared Error For Training data = \"+str(RMSE_train_LR))\n",
    "print(\"Root Mean Squared Error For Test data = \"+str(RMSE_test_LR))"
   ]
  },
  {
   "cell_type": "code",
   "execution_count": 172,
   "metadata": {
    "colab": {
     "base_uri": "https://localhost:8080/"
    },
    "id": "UYalxYqDSvLN",
    "outputId": "767d3b71-d63b-47bd-f456-967ad1a06c80"
   },
   "outputs": [
    {
     "data": {
      "text/plain": [
       "0.7693328099173493"
      ]
     },
     "execution_count": 172,
     "metadata": {},
     "output_type": "execute_result"
    }
   ],
   "source": [
    "#calculate R^2 for train data\n",
    "from sklearn.metrics import r2_score\n",
    "r2_score(y_train, pred_train_LR)"
   ]
  },
  {
   "cell_type": "code",
   "execution_count": 173,
   "metadata": {
    "colab": {
     "base_uri": "https://localhost:8080/"
    },
    "id": "f4Nzi0xRSvLN",
    "outputId": "6ccabab8-0117-4028-b8ea-d02d811bd0a6"
   },
   "outputs": [
    {
     "data": {
      "text/plain": [
       "0.7688861229813684"
      ]
     },
     "execution_count": 173,
     "metadata": {},
     "output_type": "execute_result"
    }
   ],
   "source": [
    "r2_score(y_test, pred_test_LR)"
   ]
  },
  {
   "cell_type": "markdown",
   "metadata": {},
   "source": [
    "**Save model using pickle**"
   ]
  },
  {
   "cell_type": "code",
   "execution_count": 136,
   "metadata": {},
   "outputs": [],
   "source": [
    "import pickle"
   ]
  },
  {
   "cell_type": "code",
   "execution_count": 188,
   "metadata": {},
   "outputs": [],
   "source": [
    "f = open('Fare_LR.pkl','wb')\n",
    "pickle.dump(fit_LR, f)\n",
    "f.close()"
   ]
  },
  {
   "cell_type": "markdown",
   "metadata": {},
   "source": [
    "### Lasso Regression"
   ]
  },
  {
   "cell_type": "code",
   "execution_count": 174,
   "metadata": {},
   "outputs": [
    {
     "data": {
      "text/plain": [
       "Lasso(max_iter=500)"
      ]
     },
     "execution_count": 174,
     "metadata": {},
     "output_type": "execute_result"
    }
   ],
   "source": [
    "lasso = Lasso(normalize=False,max_iter = 500)\n",
    "lasso.fit(X_train,y_train)"
   ]
  },
  {
   "cell_type": "code",
   "execution_count": 175,
   "metadata": {},
   "outputs": [
    {
     "data": {
      "text/plain": [
       "0.7642151731660707"
      ]
     },
     "execution_count": 175,
     "metadata": {},
     "output_type": "execute_result"
    }
   ],
   "source": [
    "lasso.score(X_test, y_test)"
   ]
  },
  {
   "cell_type": "markdown",
   "metadata": {
    "id": "GOwPv1pMSvLN"
   },
   "source": [
    "### Decision tree Regressor : "
   ]
  },
  {
   "cell_type": "code",
   "execution_count": 115,
   "metadata": {
    "id": "Gy4wKV7KSvLN"
   },
   "outputs": [],
   "source": [
    "fit_DT = DecisionTreeRegressor(max_depth= 6, min_samples_split=2).fit(X_train,y_train)"
   ]
  },
  {
   "cell_type": "code",
   "execution_count": 116,
   "metadata": {
    "id": "kZWNMPKoSvLO"
   },
   "outputs": [],
   "source": [
    "#prediction on train data\n",
    "pred_train_DT = fit_DT.predict(X_train)\n",
    "\n",
    "#prediction on test data\n",
    "pred_test_DT = fit_DT.predict(X_test)"
   ]
  },
  {
   "cell_type": "code",
   "execution_count": 117,
   "metadata": {
    "id": "-vULqSAoSvLO"
   },
   "outputs": [],
   "source": [
    "##calculating RMSE for train data\n",
    "RMSE_train_DT = np.sqrt(mean_squared_error(y_train, pred_train_DT))\n",
    "\n",
    "##calculating RMSE for test data\n",
    "RMSE_test_DT = np.sqrt(mean_squared_error(y_test, pred_test_DT))"
   ]
  },
  {
   "cell_type": "code",
   "execution_count": 118,
   "metadata": {
    "colab": {
     "base_uri": "https://localhost:8080/"
    },
    "id": "-UkTJ2mNSvLO",
    "outputId": "d26343e3-34d6-487d-fb27-8e1ef92de89d"
   },
   "outputs": [
    {
     "name": "stdout",
     "output_type": "stream",
     "text": [
      "Root Mean Squared Error For Training data = 4.325762969093897\n",
      "Root Mean Squared Error For Test data = 4.33978123858121\n"
     ]
    }
   ],
   "source": [
    "print(\"Root Mean Squared Error For Training data = \"+str(RMSE_train_DT))\n",
    "print(\"Root Mean Squared Error For Test data = \"+str(RMSE_test_DT))"
   ]
  },
  {
   "cell_type": "code",
   "execution_count": 119,
   "metadata": {
    "colab": {
     "base_uri": "https://localhost:8080/"
    },
    "id": "DzkABcE5SvLO",
    "outputId": "2f8ede89-7dfb-4a49-8fb4-4756f2017ee5"
   },
   "outputs": [
    {
     "data": {
      "text/plain": [
       "0.7976164989452463"
      ]
     },
     "execution_count": 119,
     "metadata": {},
     "output_type": "execute_result"
    }
   ],
   "source": [
    "## R^2 calculation for train data\n",
    "r2_score(y_train, pred_train_DT)"
   ]
  },
  {
   "cell_type": "code",
   "execution_count": 120,
   "metadata": {
    "colab": {
     "base_uri": "https://localhost:8080/"
    },
    "id": "dpB9u-IMSvLP",
    "outputId": "45f8c3ff-3a05-4bb5-960e-f62223400127"
   },
   "outputs": [
    {
     "data": {
      "text/plain": [
       "0.7959197150077929"
      ]
     },
     "execution_count": 120,
     "metadata": {},
     "output_type": "execute_result"
    }
   ],
   "source": [
    "## R^2 calculation for test data\n",
    "r2_score(y_test, pred_test_DT)"
   ]
  },
  {
   "cell_type": "code",
   "execution_count": 137,
   "metadata": {},
   "outputs": [],
   "source": [
    "f = open('Fare_DT.pkl','wb')\n",
    "pickle.dump(fit_DT, f)\n",
    "f.close()"
   ]
  },
  {
   "cell_type": "markdown",
   "metadata": {},
   "source": [
    "### Random Forest Regressor"
   ]
  },
  {
   "cell_type": "code",
   "execution_count": 124,
   "metadata": {},
   "outputs": [],
   "source": [
    "from sklearn.ensemble import RandomForestRegressor"
   ]
  },
  {
   "cell_type": "code",
   "execution_count": 129,
   "metadata": {},
   "outputs": [],
   "source": [
    "fit_RF = RandomForestRegressor(n_estimators = 3).fit(X_train,y_train)"
   ]
  },
  {
   "cell_type": "code",
   "execution_count": 130,
   "metadata": {},
   "outputs": [],
   "source": [
    "#prediction on train data\n",
    "pred_train_RF = fit_RF.predict(X_train)\n",
    "#prediction on test data\n",
    "pred_test_RF = fit_RF.predict(X_test)"
   ]
  },
  {
   "cell_type": "code",
   "execution_count": 131,
   "metadata": {},
   "outputs": [],
   "source": [
    "##calculating RMSE for train data\n",
    "RMSE_train_RF = np.sqrt(mean_squared_error(y_train, pred_train_RF))\n",
    "##calculating RMSE for test data\n",
    "RMSE_test_RF = np.sqrt(mean_squared_error(y_test, pred_test_RF))"
   ]
  },
  {
   "cell_type": "code",
   "execution_count": 132,
   "metadata": {},
   "outputs": [
    {
     "name": "stdout",
     "output_type": "stream",
     "text": [
      "Root Mean Squared Error For Training data = 2.494549879133887\n",
      "Root Mean Squared Error For Test data = 4.965601497863867\n"
     ]
    }
   ],
   "source": [
    "print(\"Root Mean Squared Error For Training data = \"+str(RMSE_train_RF))\n",
    "print(\"Root Mean Squared Error For Test data = \"+str(RMSE_test_RF))"
   ]
  },
  {
   "cell_type": "code",
   "execution_count": 133,
   "metadata": {},
   "outputs": [
    {
     "data": {
      "text/plain": [
       "0.932697057531974"
      ]
     },
     "execution_count": 133,
     "metadata": {},
     "output_type": "execute_result"
    }
   ],
   "source": [
    "# calculate R^2 for train data\n",
    "r2_score(y_train, pred_train_RF)"
   ]
  },
  {
   "cell_type": "code",
   "execution_count": 134,
   "metadata": {},
   "outputs": [
    {
     "data": {
      "text/plain": [
       "0.7328168271372819"
      ]
     },
     "execution_count": 134,
     "metadata": {},
     "output_type": "execute_result"
    }
   ],
   "source": [
    "#calculate R^2 for test data\n",
    "r2_score(y_test, pred_test_RF)"
   ]
  },
  {
   "cell_type": "markdown",
   "metadata": {
    "id": "q_EpJdEWSvLU"
   },
   "source": [
    "# Prediction of fare from provided test dataset :"
   ]
  },
  {
   "cell_type": "markdown",
   "metadata": {
    "id": "5JFqqPyaSvLV"
   },
   "source": [
    "We have already cleaned and processed our test dataset along with our training dataset. Hence we will be predicting using Linear Regression model"
   ]
  },
  {
   "cell_type": "code",
   "execution_count": 182,
   "metadata": {
    "id": "yenHGbaKSvLV"
   },
   "outputs": [],
   "source": [
    "#Apply model on test data\n",
    "predictions_GRF_test_Df = fit_DT.predict(test)"
   ]
  },
  {
   "cell_type": "code",
   "execution_count": 183,
   "metadata": {
    "id": "X0LAZNGOSvLV",
    "outputId": "eb2af57b-79a4-4be0-980d-7a0e8fecd4b0"
   },
   "outputs": [
    {
     "data": {
      "text/plain": [
       "array([ 9.80082454,  9.80082454,  5.44920722, ..., 56.15539669,\n",
       "       23.36257399,  5.44920722])"
      ]
     },
     "execution_count": 183,
     "metadata": {},
     "output_type": "execute_result"
    }
   ],
   "source": [
    "predictions_GRF_test_Df"
   ]
  },
  {
   "cell_type": "code",
   "execution_count": 184,
   "metadata": {
    "id": "fzSnUlQiSvLV"
   },
   "outputs": [],
   "source": [
    "test['Predicted_fare'] = predictions_GRF_test_Df"
   ]
  },
  {
   "cell_type": "code",
   "execution_count": 185,
   "metadata": {
    "id": "bQ4aplGkSvLW",
    "outputId": "d0f9c3ef-3288-4739-da12-66d1ab2222bc"
   },
   "outputs": [
    {
     "data": {
      "text/html": [
       "<div>\n",
       "<style scoped>\n",
       "    .dataframe tbody tr th:only-of-type {\n",
       "        vertical-align: middle;\n",
       "    }\n",
       "\n",
       "    .dataframe tbody tr th {\n",
       "        vertical-align: top;\n",
       "    }\n",
       "\n",
       "    .dataframe thead th {\n",
       "        text-align: right;\n",
       "    }\n",
       "</style>\n",
       "<table border=\"1\" class=\"dataframe\">\n",
       "  <thead>\n",
       "    <tr style=\"text-align: right;\">\n",
       "      <th></th>\n",
       "      <th>passenger_count</th>\n",
       "      <th>year</th>\n",
       "      <th>Month</th>\n",
       "      <th>Date</th>\n",
       "      <th>Day</th>\n",
       "      <th>Hour</th>\n",
       "      <th>distance</th>\n",
       "      <th>Predicted_fare</th>\n",
       "    </tr>\n",
       "  </thead>\n",
       "  <tbody>\n",
       "    <tr>\n",
       "      <th>0</th>\n",
       "      <td>1</td>\n",
       "      <td>2015</td>\n",
       "      <td>1</td>\n",
       "      <td>27</td>\n",
       "      <td>1</td>\n",
       "      <td>13</td>\n",
       "      <td>2.323260</td>\n",
       "      <td>9.800825</td>\n",
       "    </tr>\n",
       "    <tr>\n",
       "      <th>1</th>\n",
       "      <td>1</td>\n",
       "      <td>2015</td>\n",
       "      <td>1</td>\n",
       "      <td>27</td>\n",
       "      <td>1</td>\n",
       "      <td>13</td>\n",
       "      <td>2.425353</td>\n",
       "      <td>9.800825</td>\n",
       "    </tr>\n",
       "    <tr>\n",
       "      <th>2</th>\n",
       "      <td>1</td>\n",
       "      <td>2011</td>\n",
       "      <td>10</td>\n",
       "      <td>8</td>\n",
       "      <td>5</td>\n",
       "      <td>11</td>\n",
       "      <td>0.618628</td>\n",
       "      <td>5.449207</td>\n",
       "    </tr>\n",
       "    <tr>\n",
       "      <th>3</th>\n",
       "      <td>1</td>\n",
       "      <td>2012</td>\n",
       "      <td>12</td>\n",
       "      <td>1</td>\n",
       "      <td>5</td>\n",
       "      <td>21</td>\n",
       "      <td>1.961033</td>\n",
       "      <td>7.541634</td>\n",
       "    </tr>\n",
       "    <tr>\n",
       "      <th>4</th>\n",
       "      <td>1</td>\n",
       "      <td>2012</td>\n",
       "      <td>12</td>\n",
       "      <td>1</td>\n",
       "      <td>5</td>\n",
       "      <td>21</td>\n",
       "      <td>5.387301</td>\n",
       "      <td>13.652546</td>\n",
       "    </tr>\n",
       "  </tbody>\n",
       "</table>\n",
       "</div>"
      ],
      "text/plain": [
       "   passenger_count  year  Month  Date  Day  Hour  distance  Predicted_fare\n",
       "0                1  2015      1    27    1    13  2.323260        9.800825\n",
       "1                1  2015      1    27    1    13  2.425353        9.800825\n",
       "2                1  2011     10     8    5    11  0.618628        5.449207\n",
       "3                1  2012     12     1    5    21  1.961033        7.541634\n",
       "4                1  2012     12     1    5    21  5.387301       13.652546"
      ]
     },
     "execution_count": 185,
     "metadata": {},
     "output_type": "execute_result"
    }
   ],
   "source": [
    "test.head()"
   ]
  },
  {
   "cell_type": "code",
   "execution_count": 187,
   "metadata": {
    "id": "Rs53cEZPSvLW"
   },
   "outputs": [],
   "source": [
    "test.to_csv('Predicted_fare_output.csv')"
   ]
  },
  {
   "cell_type": "code",
   "execution_count": null,
   "metadata": {},
   "outputs": [],
   "source": []
  },
  {
   "cell_type": "code",
   "execution_count": null,
   "metadata": {},
   "outputs": [],
   "source": []
  }
 ],
 "metadata": {
  "colab": {
   "name": "Cab Fare Prediction.ipynb",
   "provenance": []
  },
  "kernelspec": {
   "display_name": "Python 3",
   "language": "python",
   "name": "python3"
  },
  "language_info": {
   "codemirror_mode": {
    "name": "ipython",
    "version": 3
   },
   "file_extension": ".py",
   "mimetype": "text/x-python",
   "name": "python",
   "nbconvert_exporter": "python",
   "pygments_lexer": "ipython3",
   "version": "3.8.5"
  }
 },
 "nbformat": 4,
 "nbformat_minor": 1
}
